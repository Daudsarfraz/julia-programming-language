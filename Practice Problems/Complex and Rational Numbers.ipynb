{
 "cells": [
  {
   "cell_type": "code",
   "execution_count": 2,
   "id": "5a7b76a4",
   "metadata": {},
   "outputs": [
    {
     "data": {
      "text/plain": [
       "1 + 2im"
      ]
     },
     "execution_count": 2,
     "metadata": {},
     "output_type": "execute_result"
    }
   ],
   "source": [
    "1+2im # im is bound to the complex number i"
   ]
  },
  {
   "cell_type": "code",
   "execution_count": 3,
   "id": "171f8f38",
   "metadata": {},
   "outputs": [
    {
     "data": {
      "text/plain": [
       "8 + 1im"
      ]
     },
     "execution_count": 3,
     "metadata": {},
     "output_type": "execute_result"
    }
   ],
   "source": [
    "(1 + 2im)*(2 - 3im)"
   ]
  },
  {
   "cell_type": "code",
   "execution_count": 4,
   "id": "9519de31",
   "metadata": {},
   "outputs": [
    {
     "data": {
      "text/plain": [
       "-0.30769230769230776 + 0.5384615384615384im"
      ]
     },
     "execution_count": 4,
     "metadata": {},
     "output_type": "execute_result"
    }
   ],
   "source": [
    "(1 + 2im)/(2 - 3im)"
   ]
  },
  {
   "cell_type": "code",
   "execution_count": 5,
   "id": "a497004a",
   "metadata": {},
   "outputs": [
    {
     "data": {
      "text/plain": [
       "2 + 0im"
      ]
     },
     "execution_count": 5,
     "metadata": {},
     "output_type": "execute_result"
    }
   ],
   "source": [
    "(1 + 2im) + (1 - 2im)"
   ]
  },
  {
   "cell_type": "code",
   "execution_count": 6,
   "id": "352383e1",
   "metadata": {},
   "outputs": [
    {
     "data": {
      "text/plain": [
       "-8 + 3im"
      ]
     },
     "execution_count": 6,
     "metadata": {},
     "output_type": "execute_result"
    }
   ],
   "source": [
    "(-3 + 2im) - (5 - 1im)"
   ]
  },
  {
   "cell_type": "code",
   "execution_count": 8,
   "id": "10057242",
   "metadata": {},
   "outputs": [
    {
     "data": {
      "text/plain": [
       "-3 - 4im"
      ]
     },
     "execution_count": 8,
     "metadata": {},
     "output_type": "execute_result"
    }
   ],
   "source": [
    "(-1 + 2im)^2"
   ]
  },
  {
   "cell_type": "code",
   "execution_count": 9,
   "id": "b8078e5c",
   "metadata": {},
   "outputs": [
    {
     "data": {
      "text/plain": [
       "2.729624464784009 - 6.9606644595719im"
      ]
     },
     "execution_count": 9,
     "metadata": {},
     "output_type": "execute_result"
    }
   ],
   "source": [
    "(-1 + 2im)^2.5"
   ]
  },
  {
   "cell_type": "code",
   "execution_count": 10,
   "id": "ab79b9f0",
   "metadata": {},
   "outputs": [
    {
     "data": {
      "text/plain": [
       "-0.27910381075826657 + 0.08708053414102428im"
      ]
     },
     "execution_count": 10,
     "metadata": {},
     "output_type": "execute_result"
    }
   ],
   "source": [
    "(-1 + 2im)^(1 + 1im)"
   ]
  },
  {
   "cell_type": "code",
   "execution_count": 11,
   "id": "ac839fe2",
   "metadata": {},
   "outputs": [
    {
     "data": {
      "text/plain": [
       "6 - 15im"
      ]
     },
     "execution_count": 11,
     "metadata": {},
     "output_type": "execute_result"
    }
   ],
   "source": [
    "3(2 - 5im)"
   ]
  },
  {
   "cell_type": "code",
   "execution_count": 12,
   "id": "cf1e9096",
   "metadata": {},
   "outputs": [
    {
     "data": {
      "text/plain": [
       "-63 - 60im"
      ]
     },
     "execution_count": 12,
     "metadata": {},
     "output_type": "execute_result"
    }
   ],
   "source": [
    "3(2 - 5im)^2"
   ]
  },
  {
   "cell_type": "code",
   "execution_count": 13,
   "id": "3fa3c639",
   "metadata": {},
   "outputs": [
    {
     "data": {
      "text/plain": [
       "0.20689655172413796 + 0.5172413793103449im"
      ]
     },
     "execution_count": 13,
     "metadata": {},
     "output_type": "execute_result"
    }
   ],
   "source": [
    "3(2 - 5im)^-1.0"
   ]
  },
  {
   "cell_type": "code",
   "execution_count": 20,
   "id": "7ddc1a11",
   "metadata": {},
   "outputs": [
    {
     "data": {
      "text/plain": [
       "1 + 3im"
      ]
     },
     "execution_count": 20,
     "metadata": {},
     "output_type": "execute_result"
    }
   ],
   "source": [
    "(2 + 3im) - 1"
   ]
  },
  {
   "cell_type": "code",
   "execution_count": 21,
   "id": "e3a3b2a7",
   "metadata": {},
   "outputs": [
    {
     "data": {
      "text/plain": [
       "1.5 + 2.0im"
      ]
     },
     "execution_count": 21,
     "metadata": {},
     "output_type": "execute_result"
    }
   ],
   "source": [
    "(1 + 2im) + 0.5"
   ]
  },
  {
   "cell_type": "code",
   "execution_count": 23,
   "id": "4a75d765",
   "metadata": {},
   "outputs": [
    {
     "data": {
      "text/plain": [
       "2.0 + 2.5im"
      ]
     },
     "execution_count": 23,
     "metadata": {},
     "output_type": "execute_result"
    }
   ],
   "source": [
    "(2 + 3im) - 0.5im"
   ]
  },
  {
   "cell_type": "code",
   "execution_count": 25,
   "id": "adc673f8",
   "metadata": {},
   "outputs": [
    {
     "data": {
      "text/plain": [
       "0.75 + 1.5im"
      ]
     },
     "execution_count": 25,
     "metadata": {},
     "output_type": "execute_result"
    }
   ],
   "source": [
    "0.75(1 + 2im)"
   ]
  },
  {
   "cell_type": "code",
   "execution_count": 26,
   "id": "d173a080",
   "metadata": {},
   "outputs": [
    {
     "data": {
      "text/plain": [
       "1.0 + 1.5im"
      ]
     },
     "execution_count": 26,
     "metadata": {},
     "output_type": "execute_result"
    }
   ],
   "source": [
    "(2 + 3im) / 2"
   ]
  },
  {
   "cell_type": "code",
   "execution_count": 27,
   "id": "b868da47",
   "metadata": {},
   "outputs": [
    {
     "data": {
      "text/plain": [
       "-2 + 0im"
      ]
     },
     "execution_count": 27,
     "metadata": {},
     "output_type": "execute_result"
    }
   ],
   "source": [
    "2im^2"
   ]
  },
  {
   "cell_type": "code",
   "execution_count": 28,
   "id": "4740e14a",
   "metadata": {},
   "outputs": [
    {
     "data": {
      "text/plain": [
       "-0.5 - 1.0im"
      ]
     },
     "execution_count": 28,
     "metadata": {},
     "output_type": "execute_result"
    }
   ],
   "source": [
    "(1 - 3im) / (2 + 2im)"
   ]
  },
  {
   "cell_type": "code",
   "execution_count": 29,
   "id": "937eabf1",
   "metadata": {},
   "outputs": [
    {
     "data": {
      "text/plain": [
       "2 - 2im"
      ]
     },
     "execution_count": 29,
     "metadata": {},
     "output_type": "execute_result"
    }
   ],
   "source": [
    "2(1 - 1im)"
   ]
  },
  {
   "cell_type": "code",
   "execution_count": 30,
   "id": "3d40c920",
   "metadata": {},
   "outputs": [
    {
     "data": {
      "text/plain": [
       "1.0 - 0.75im"
      ]
     },
     "execution_count": 30,
     "metadata": {},
     "output_type": "execute_result"
    }
   ],
   "source": [
    "1 + 3/4im"
   ]
  },
  {
   "cell_type": "code",
   "execution_count": 31,
   "id": "a4a5eb75",
   "metadata": {},
   "outputs": [
    {
     "data": {
      "text/plain": [
       "1 + 2im"
      ]
     },
     "execution_count": 31,
     "metadata": {},
     "output_type": "execute_result"
    }
   ],
   "source": [
    "z = 1+2im"
   ]
  },
  {
   "cell_type": "code",
   "execution_count": 32,
   "id": "65d2e6ad",
   "metadata": {},
   "outputs": [
    {
     "data": {
      "text/plain": [
       "1"
      ]
     },
     "execution_count": 32,
     "metadata": {},
     "output_type": "execute_result"
    }
   ],
   "source": [
    "real(1+2im) # real part of z"
   ]
  },
  {
   "cell_type": "code",
   "execution_count": 33,
   "id": "55afd9f5",
   "metadata": {},
   "outputs": [
    {
     "data": {
      "text/plain": [
       "3"
      ]
     },
     "execution_count": 33,
     "metadata": {},
     "output_type": "execute_result"
    }
   ],
   "source": [
    "imag(2+3im) # imaginary part of z"
   ]
  },
  {
   "cell_type": "code",
   "execution_count": 35,
   "id": "ceead923",
   "metadata": {},
   "outputs": [
    {
     "data": {
      "text/plain": [
       "4 - 56im"
      ]
     },
     "execution_count": 35,
     "metadata": {},
     "output_type": "execute_result"
    }
   ],
   "source": [
    "conj(4+56im) # complex conjugate of z"
   ]
  },
  {
   "cell_type": "code",
   "execution_count": 36,
   "id": "71b62378",
   "metadata": {},
   "outputs": [
    {
     "data": {
      "text/plain": [
       "2.23606797749979"
      ]
     },
     "execution_count": 36,
     "metadata": {},
     "output_type": "execute_result"
    }
   ],
   "source": [
    "abs(1 + 2im) # absolute value of z"
   ]
  },
  {
   "cell_type": "code",
   "execution_count": 39,
   "id": "e8eb5064",
   "metadata": {},
   "outputs": [
    {
     "data": {
      "text/plain": [
       "20"
      ]
     },
     "execution_count": 39,
     "metadata": {},
     "output_type": "execute_result"
    }
   ],
   "source": [
    "abs2(4 + 2im) # squared absolute value"
   ]
  },
  {
   "cell_type": "code",
   "execution_count": 38,
   "id": "9dea9678",
   "metadata": {},
   "outputs": [
    {
     "data": {
      "text/plain": [
       "1.1071487177940904"
      ]
     },
     "execution_count": 38,
     "metadata": {},
     "output_type": "execute_result"
    }
   ],
   "source": [
    "angle(1 + 2im) # phase angle in radians"
   ]
  },
  {
   "cell_type": "code",
   "execution_count": 46,
   "id": "2e6ab02d",
   "metadata": {},
   "outputs": [
    {
     "data": {
      "text/plain": [
       "0.7071067811865476 + 0.7071067811865475im"
      ]
     },
     "execution_count": 46,
     "metadata": {},
     "output_type": "execute_result"
    }
   ],
   "source": [
    "sqrt(1im)"
   ]
  },
  {
   "cell_type": "code",
   "execution_count": 47,
   "id": "ac07bd12",
   "metadata": {},
   "outputs": [
    {
     "data": {
      "text/plain": [
       "-0.4890562590412937 + 1.4031192506220405im"
      ]
     },
     "execution_count": 47,
     "metadata": {},
     "output_type": "execute_result"
    }
   ],
   "source": [
    "sinh(1 + 2im)"
   ]
  },
  {
   "cell_type": "code",
   "execution_count": 48,
   "id": "65c4f613",
   "metadata": {},
   "outputs": [
    {
     "data": {
      "text/plain": [
       "-1.1312043837568135 + 2.4717266720048188im"
      ]
     },
     "execution_count": 48,
     "metadata": {},
     "output_type": "execute_result"
    }
   ],
   "source": [
    "exp(1 + 2im)"
   ]
  },
  {
   "cell_type": "code",
   "execution_count": 49,
   "id": "fa9608ab",
   "metadata": {},
   "outputs": [
    {
     "data": {
      "text/plain": [
       "2.0327230070196656 - 3.0518977991517997im"
      ]
     },
     "execution_count": 49,
     "metadata": {},
     "output_type": "execute_result"
    }
   ],
   "source": [
    "cos(1 + 2im)"
   ]
  },
  {
   "cell_type": "code",
   "execution_count": 45,
   "id": "6c292b7b",
   "metadata": {},
   "outputs": [
    {
     "data": {
      "text/plain": [
       "1.272019649514069 + 0.7861513777574233im"
      ]
     },
     "execution_count": 45,
     "metadata": {},
     "output_type": "execute_result"
    }
   ],
   "source": [
    "sqrt(1 + 2im)"
   ]
  },
  {
   "cell_type": "code",
   "execution_count": 50,
   "id": "51a8cd33",
   "metadata": {},
   "outputs": [
    {
     "ename": "LoadError",
     "evalue": "syntax: extra token \"Numbers\" after end of expression",
     "output_type": "error",
     "traceback": [
      "syntax: extra token \"Numbers\" after end of expression",
      "",
      "Stacktrace:",
      " [1] top-level scope",
      "   @ In[50]:1"
     ]
    }
   ],
   "source": [
    "Rational Numbers"
   ]
  },
  {
   "cell_type": "code",
   "execution_count": 51,
   "id": "c49ec552",
   "metadata": {},
   "outputs": [
    {
     "data": {
      "text/plain": [
       "2"
      ]
     },
     "execution_count": 51,
     "metadata": {},
     "output_type": "execute_result"
    }
   ],
   "source": [
    "numerator(2//3)"
   ]
  },
  {
   "cell_type": "code",
   "execution_count": 52,
   "id": "65483b83",
   "metadata": {},
   "outputs": [
    {
     "data": {
      "text/plain": [
       "3"
      ]
     },
     "execution_count": 52,
     "metadata": {},
     "output_type": "execute_result"
    }
   ],
   "source": [
    "denominator(2//3)"
   ]
  },
  {
   "cell_type": "code",
   "execution_count": 53,
   "id": "1796cb1b",
   "metadata": {},
   "outputs": [
    {
     "data": {
      "text/plain": [
       "true"
      ]
     },
     "execution_count": 53,
     "metadata": {},
     "output_type": "execute_result"
    }
   ],
   "source": [
    "3//4 == 2//3"
   ]
  },
  {
   "cell_type": "code",
   "execution_count": 54,
   "id": "50ea905c",
   "metadata": {},
   "outputs": [
    {
     "data": {
      "text/plain": [
       "true"
      ]
     },
     "execution_count": 54,
     "metadata": {},
     "output_type": "execute_result"
    }
   ],
   "source": [
    "3//4 > 2//3"
   ]
  },
  {
   "cell_type": "code",
   "execution_count": 55,
   "id": "87a8b8cf",
   "metadata": {},
   "outputs": [
    {
     "data": {
      "text/plain": [
       "true"
      ]
     },
     "execution_count": 55,
     "metadata": {},
     "output_type": "execute_result"
    }
   ],
   "source": [
    "3//4 < 2//3"
   ]
  },
  {
   "cell_type": "code",
   "execution_count": 59,
   "id": "a09506a7",
   "metadata": {},
   "outputs": [
    {
     "data": {
      "text/plain": [
       "1//12"
      ]
     },
     "execution_count": 59,
     "metadata": {},
     "output_type": "execute_result"
    }
   ],
   "source": [
    "3//4 - 2//3"
   ]
  },
  {
   "cell_type": "code",
   "execution_count": 60,
   "id": "df64c575",
   "metadata": {},
   "outputs": [
    {
     "data": {
      "text/plain": [
       "17//12"
      ]
     },
     "execution_count": 60,
     "metadata": {},
     "output_type": "execute_result"
    }
   ],
   "source": [
    "3//4 + 2//3"
   ]
  },
  {
   "cell_type": "code",
   "execution_count": 61,
   "id": "a710bc63",
   "metadata": {},
   "outputs": [
    {
     "data": {
      "text/plain": [
       "true"
      ]
     },
     "execution_count": 61,
     "metadata": {},
     "output_type": "execute_result"
    }
   ],
   "source": [
    "3//4 != 2//3"
   ]
  },
  {
   "cell_type": "code",
   "execution_count": 62,
   "id": "b770c3db",
   "metadata": {},
   "outputs": [
    {
     "data": {
      "text/plain": [
       "9//8"
      ]
     },
     "execution_count": 62,
     "metadata": {},
     "output_type": "execute_result"
    }
   ],
   "source": [
    "3//4 / 2//3"
   ]
  },
  {
   "cell_type": "code",
   "execution_count": 63,
   "id": "944877be",
   "metadata": {},
   "outputs": [
    {
     "data": {
      "text/plain": [
       "1//12"
      ]
     },
     "execution_count": 63,
     "metadata": {},
     "output_type": "execute_result"
    }
   ],
   "source": [
    "3//4 - 2//3"
   ]
  },
  {
   "cell_type": "code",
   "execution_count": null,
   "id": "c987b552",
   "metadata": {},
   "outputs": [],
   "source": []
  }
 ],
 "metadata": {
  "kernelspec": {
   "display_name": "Julia 1.8.4",
   "language": "julia",
   "name": "julia-1.8"
  },
  "language_info": {
   "file_extension": ".jl",
   "mimetype": "application/julia",
   "name": "julia",
   "version": "1.8.4"
  }
 },
 "nbformat": 4,
 "nbformat_minor": 5
}
