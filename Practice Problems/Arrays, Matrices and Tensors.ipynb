{
 "cells": [
  {
   "cell_type": "code",
   "execution_count": 2,
   "id": "0a6dbb5c",
   "metadata": {},
   "outputs": [],
   "source": [
    "#Arrays are the most powerful and useful features in Julia. Let's start with some basics "
   ]
  },
  {
   "cell_type": "code",
   "execution_count": 3,
   "id": "9bc8db8d",
   "metadata": {},
   "outputs": [
    {
     "data": {
      "text/plain": [
       "4-element Vector{String}:\n",
       " \"car\"\n",
       " \"bike\"\n",
       " \"Cycle\"\n",
       " \"Motorbike\""
      ]
     },
     "execution_count": 3,
     "metadata": {},
     "output_type": "execute_result"
    }
   ],
   "source": [
    "ele = [\"car\",\"bike\",\"Cycle\",\"Motorbike\"]"
   ]
  },
  {
   "cell_type": "code",
   "execution_count": 4,
   "id": "4c1bf29f",
   "metadata": {},
   "outputs": [
    {
     "data": {
      "text/plain": [
       "Vector{String}\u001b[90m (alias for \u001b[39m\u001b[90mArray{String, 1}\u001b[39m\u001b[90m)\u001b[39m"
      ]
     },
     "execution_count": 4,
     "metadata": {},
     "output_type": "execute_result"
    }
   ],
   "source": [
    "typeof(ele)"
   ]
  },
  {
   "cell_type": "code",
   "execution_count": 5,
   "id": "431fa3dc",
   "metadata": {},
   "outputs": [
    {
     "data": {
      "text/plain": [
       "8-element Vector{Int64}:\n",
       " 1\n",
       " 2\n",
       " 3\n",
       " 4\n",
       " 5\n",
       " 6\n",
       " 7\n",
       " 8"
      ]
     },
     "execution_count": 5,
     "metadata": {},
     "output_type": "execute_result"
    }
   ],
   "source": [
    "num = [1, 2, 3, 4, 5, 6, 7, 8]"
   ]
  },
  {
   "cell_type": "code",
   "execution_count": 6,
   "id": "acdd9fbb",
   "metadata": {},
   "outputs": [
    {
     "data": {
      "text/plain": [
       "Vector{Int64}\u001b[90m (alias for \u001b[39m\u001b[90mArray{Int64, 1}\u001b[39m\u001b[90m)\u001b[39m"
      ]
     },
     "execution_count": 6,
     "metadata": {},
     "output_type": "execute_result"
    }
   ],
   "source": [
    "typeof(num)"
   ]
  },
  {
   "cell_type": "code",
   "execution_count": 27,
   "id": "5976cae3",
   "metadata": {},
   "outputs": [
    {
     "data": {
      "text/plain": [
       "10-element Vector{Int64}:\n",
       "   1\n",
       "   2\n",
       "   3\n",
       "   4\n",
       "   5\n",
       "   6\n",
       " 100\n",
       " 100\n",
       " 100\n",
       " 100"
      ]
     },
     "execution_count": 27,
     "metadata": {},
     "output_type": "execute_result"
    }
   ],
   "source": [
    "push!(num, 100) # add element at last"
   ]
  },
  {
   "cell_type": "code",
   "execution_count": 24,
   "id": "1336b332",
   "metadata": {},
   "outputs": [
    {
     "name": "stdout",
     "output_type": "stream",
     "text": [
      "num = [1, 2, 3, 4, 5, 6, 100, 100, 100, 100]\n"
     ]
    },
    {
     "data": {
      "text/plain": [
       "10-element Vector{Int64}:\n",
       "   1\n",
       "   2\n",
       "   3\n",
       "   4\n",
       "   5\n",
       "   6\n",
       " 100\n",
       " 100\n",
       " 100\n",
       " 100"
      ]
     },
     "execution_count": 24,
     "metadata": {},
     "output_type": "execute_result"
    }
   ],
   "source": [
    "@show num"
   ]
  },
  {
   "cell_type": "code",
   "execution_count": 28,
   "id": "1bc800f1",
   "metadata": {},
   "outputs": [
    {
     "data": {
      "text/plain": [
       "100"
      ]
     },
     "execution_count": 28,
     "metadata": {},
     "output_type": "execute_result"
    }
   ],
   "source": [
    "pop!(num) # remove from last"
   ]
  },
  {
   "cell_type": "code",
   "execution_count": 29,
   "id": "b48fd13d",
   "metadata": {},
   "outputs": [
    {
     "name": "stdout",
     "output_type": "stream",
     "text": [
      "num = [1, 2, 3, 4, 5, 6, 100, 100, 100]\n"
     ]
    },
    {
     "data": {
      "text/plain": [
       "9-element Vector{Int64}:\n",
       "   1\n",
       "   2\n",
       "   3\n",
       "   4\n",
       "   5\n",
       "   6\n",
       " 100\n",
       " 100\n",
       " 100"
      ]
     },
     "execution_count": 29,
     "metadata": {},
     "output_type": "execute_result"
    }
   ],
   "source": [
    "@show num"
   ]
  },
  {
   "cell_type": "code",
   "execution_count": 30,
   "id": "b3af7491",
   "metadata": {},
   "outputs": [],
   "source": [
    "# 2-D Arrays"
   ]
  },
  {
   "cell_type": "code",
   "execution_count": 39,
   "id": "ec288c08",
   "metadata": {},
   "outputs": [
    {
     "data": {
      "text/plain": [
       "3-element Vector{Vector{Int64}}:\n",
       " [1, 2, 3]\n",
       " [4, 5, 6]\n",
       " [7, 8, 9, 1000]"
      ]
     },
     "execution_count": 39,
     "metadata": {},
     "output_type": "execute_result"
    }
   ],
   "source": [
    "mat = [[1, 2, 3],\n",
    "       [4, 5, 6],\n",
    "       [7, 8, 9, 1000]]"
   ]
  },
  {
   "cell_type": "code",
   "execution_count": 40,
   "id": "5f81c861",
   "metadata": {},
   "outputs": [
    {
     "data": {
      "text/plain": [
       "Vector{Vector{Int64}}\u001b[90m (alias for \u001b[39m\u001b[90mArray{Array{Int64, 1}, 1}\u001b[39m\u001b[90m)\u001b[39m"
      ]
     },
     "execution_count": 40,
     "metadata": {},
     "output_type": "execute_result"
    }
   ],
   "source": [
    "typeof(mat) # each element in Array is itself an Array \n"
   ]
  },
  {
   "cell_type": "code",
   "execution_count": 41,
   "id": "1b010264",
   "metadata": {},
   "outputs": [],
   "source": [
    "# Matrices"
   ]
  },
  {
   "cell_type": "code",
   "execution_count": 42,
   "id": "4ce7495b",
   "metadata": {},
   "outputs": [
    {
     "data": {
      "text/plain": [
       "1×3 Matrix{Int64}:\n",
       " 1  2  3"
      ]
     },
     "execution_count": 42,
     "metadata": {},
     "output_type": "execute_result"
    }
   ],
   "source": [
    "x = [1 2 3] # lack of commas and (the Dimension)\n",
    "x"
   ]
  },
  {
   "cell_type": "code",
   "execution_count": 44,
   "id": "9e6e4ffc",
   "metadata": {},
   "outputs": [
    {
     "data": {
      "text/plain": [
       "3×1 adjoint(::Matrix{Int64}) with eltype Int64:\n",
       " 1\n",
       " 2\n",
       " 3"
      ]
     },
     "execution_count": 44,
     "metadata": {},
     "output_type": "execute_result"
    }
   ],
   "source": [
    "x' # turn this into a column matrix (transpose)"
   ]
  },
  {
   "cell_type": "code",
   "execution_count": 51,
   "id": "652212d4",
   "metadata": {},
   "outputs": [
    {
     "data": {
      "text/plain": [
       "3×4 Matrix{Int64}:\n",
       " 1  2  3  4\n",
       " 5  6  7  8\n",
       " 9  4  2  4"
      ]
     },
     "execution_count": 51,
     "metadata": {},
     "output_type": "execute_result"
    }
   ],
   "source": [
    "# this work on if every list in list have same number of elements\n",
    "mat = [\n",
    "    [1 2 3 4]\n",
    "    [5 6 7 8]\n",
    "    [9 4 2 4]\n",
    "    ]"
   ]
  },
  {
   "cell_type": "code",
   "execution_count": 52,
   "id": "84fd4e87",
   "metadata": {},
   "outputs": [
    {
     "data": {
      "text/plain": [
       "4×3 adjoint(::Matrix{Int64}) with eltype Int64:\n",
       " 1  5  9\n",
       " 2  6  4\n",
       " 3  7  2\n",
       " 4  8  4"
      ]
     },
     "execution_count": 52,
     "metadata": {},
     "output_type": "execute_result"
    }
   ],
   "source": [
    "mat'"
   ]
  },
  {
   "cell_type": "code",
   "execution_count": 53,
   "id": "ee3c8d9e",
   "metadata": {},
   "outputs": [
    {
     "data": {
      "text/plain": [
       "Matrix{Int64}\u001b[90m (alias for \u001b[39m\u001b[90mArray{Int64, 2}\u001b[39m\u001b[90m)\u001b[39m"
      ]
     },
     "execution_count": 53,
     "metadata": {},
     "output_type": "execute_result"
    }
   ],
   "source": [
    "typeof(mat)"
   ]
  },
  {
   "cell_type": "code",
   "execution_count": 54,
   "id": "626d1648",
   "metadata": {},
   "outputs": [
    {
     "data": {
      "text/plain": [
       "(3, 4)"
      ]
     },
     "execution_count": 54,
     "metadata": {},
     "output_type": "execute_result"
    }
   ],
   "source": [
    "size(mat) # 3 rows and 4 columns"
   ]
  },
  {
   "cell_type": "code",
   "execution_count": 56,
   "id": "0c15857f",
   "metadata": {},
   "outputs": [
    {
     "data": {
      "text/plain": [
       "(1, 3)"
      ]
     },
     "execution_count": 56,
     "metadata": {},
     "output_type": "execute_result"
    }
   ],
   "source": [
    "size(x) # 1 row and 3 columns"
   ]
  },
  {
   "cell_type": "code",
   "execution_count": 58,
   "id": "87ca7a7f",
   "metadata": {},
   "outputs": [
    {
     "data": {
      "text/plain": [
       "(9,)"
      ]
     },
     "execution_count": 58,
     "metadata": {},
     "output_type": "execute_result"
    }
   ],
   "source": [
    "size(num) # Difference Important"
   ]
  },
  {
   "cell_type": "code",
   "execution_count": 59,
   "id": "f5befada",
   "metadata": {},
   "outputs": [
    {
     "data": {
      "text/plain": [
       "3×4 Matrix{Int64}:\n",
       " 1  2  3  4\n",
       " 5  6  7  8\n",
       " 9  4  2  4"
      ]
     },
     "execution_count": 59,
     "metadata": {},
     "output_type": "execute_result"
    }
   ],
   "source": [
    "mat"
   ]
  },
  {
   "cell_type": "code",
   "execution_count": 65,
   "id": "5c9e952f",
   "metadata": {},
   "outputs": [
    {
     "data": {
      "text/plain": [
       "4×3 Matrix{Int64}:\n",
       " 1  6  2\n",
       " 5  4  4\n",
       " 9  3  8\n",
       " 2  7  4"
      ]
     },
     "execution_count": 65,
     "metadata": {},
     "output_type": "execute_result"
    }
   ],
   "source": [
    "mat2 = reshape(mat,4,3) "
   ]
  },
  {
   "cell_type": "code",
   "execution_count": 68,
   "id": "8a189851",
   "metadata": {},
   "outputs": [
    {
     "data": {
      "text/plain": [
       "1×12 Matrix{Int64}:\n",
       " 1  5  9  2  6  4  3  7  2  4  8  4"
      ]
     },
     "execution_count": 68,
     "metadata": {},
     "output_type": "execute_result"
    }
   ],
   "source": [
    "mat3 = reshape(mat,1,12) "
   ]
  },
  {
   "cell_type": "code",
   "execution_count": 69,
   "id": "ad62682d",
   "metadata": {},
   "outputs": [
    {
     "data": {
      "text/plain": [
       "12×1 Matrix{Int64}:\n",
       " 1\n",
       " 5\n",
       " 9\n",
       " 2\n",
       " 6\n",
       " 4\n",
       " 3\n",
       " 7\n",
       " 2\n",
       " 4\n",
       " 8\n",
       " 4"
      ]
     },
     "execution_count": 69,
     "metadata": {},
     "output_type": "execute_result"
    }
   ],
   "source": [
    "mat4 = reshape(mat,12,1) "
   ]
  },
  {
   "cell_type": "code",
   "execution_count": 70,
   "id": "4e2f563b",
   "metadata": {},
   "outputs": [
    {
     "data": {
      "text/plain": [
       "3×4 Matrix{Int64}:\n",
       " 1  2  3  4\n",
       " 5  6  7  8\n",
       " 9  4  2  4"
      ]
     },
     "execution_count": 70,
     "metadata": {},
     "output_type": "execute_result"
    }
   ],
   "source": [
    "mat5 = reshape(mat,3,4)"
   ]
  },
  {
   "cell_type": "code",
   "execution_count": 71,
   "id": "d43375ca",
   "metadata": {},
   "outputs": [],
   "source": [
    "# Helper Function"
   ]
  },
  {
   "cell_type": "code",
   "execution_count": 75,
   "id": "50395ac4",
   "metadata": {},
   "outputs": [
    {
     "data": {
      "text/plain": [
       "5×5 Matrix{Float64}:\n",
       " 0.101696  0.2691     0.42544    0.132017  0.293716\n",
       " 0.689725  0.6523     0.0997285  0.149894  0.563845\n",
       " 0.14839   0.090664   0.494213   0.934018  0.588112\n",
       " 0.280161  0.739866   0.732165   0.499098  0.378565\n",
       " 0.728578  0.0692716  0.377033   0.511336  0.523418"
      ]
     },
     "execution_count": 75,
     "metadata": {},
     "output_type": "execute_result"
    }
   ],
   "source": [
    "rand(5,5)"
   ]
  },
  {
   "cell_type": "code",
   "execution_count": 76,
   "id": "82e76553",
   "metadata": {},
   "outputs": [
    {
     "data": {
      "text/plain": [
       "3×3 Matrix{Float64}:\n",
       "  0.758602  -0.0253149  -0.195876\n",
       "  1.25708   -0.587976    1.23954\n",
       " -1.43333    0.773187   -0.345254"
      ]
     },
     "execution_count": 76,
     "metadata": {},
     "output_type": "execute_result"
    }
   ],
   "source": [
    "randn(3,3)"
   ]
  },
  {
   "cell_type": "code",
   "execution_count": 77,
   "id": "d687f722",
   "metadata": {},
   "outputs": [
    {
     "data": {
      "text/plain": [
       "5×5 Matrix{Float64}:\n",
       " 0.298413  0.98704   0.611334  0.564293  0.482775\n",
       " 0.014252  0.165376  0.410201  0.71081   0.939948\n",
       " 0.983723  0.107903  0.760706  0.88952   0.55698\n",
       " 0.587506  0.903412  0.177653  0.471294  0.530244\n",
       " 0.379498  0.682551  0.78672   0.306932  0.459542"
      ]
     },
     "execution_count": 77,
     "metadata": {},
     "output_type": "execute_result"
    }
   ],
   "source": [
    "mat6 = rand(5,5)"
   ]
  },
  {
   "cell_type": "code",
   "execution_count": 78,
   "id": "7b68f06c",
   "metadata": {},
   "outputs": [
    {
     "data": {
      "text/plain": [
       "5×5 Matrix{Float64}:\n",
       " 0.298413  0.98704   0.611334  0.564293  0.482775\n",
       " 0.014252  0.165376  0.410201  0.71081   0.939948\n",
       " 0.983723  0.107903  0.760706  0.88952   0.55698\n",
       " 0.587506  0.903412  0.177653  0.471294  0.530244\n",
       " 0.379498  0.682551  0.78672   0.306932  0.459542"
      ]
     },
     "execution_count": 78,
     "metadata": {},
     "output_type": "execute_result"
    }
   ],
   "source": [
    "mat7 = mat6"
   ]
  },
  {
   "cell_type": "code",
   "execution_count": 79,
   "id": "a4ab9a62",
   "metadata": {},
   "outputs": [
    {
     "data": {
      "text/plain": [
       "9999"
      ]
     },
     "execution_count": 79,
     "metadata": {},
     "output_type": "execute_result"
    }
   ],
   "source": [
    "mat7[4, 4] = 9999"
   ]
  },
  {
   "cell_type": "code",
   "execution_count": 80,
   "id": "43ac5b27",
   "metadata": {},
   "outputs": [
    {
     "data": {
      "text/plain": [
       "5×5 Matrix{Float64}:\n",
       " 0.298413  0.98704   0.611334     0.564293  0.482775\n",
       " 0.014252  0.165376  0.410201     0.71081   0.939948\n",
       " 0.983723  0.107903  0.760706     0.88952   0.55698\n",
       " 0.587506  0.903412  0.177653  9999.0       0.530244\n",
       " 0.379498  0.682551  0.78672      0.306932  0.459542"
      ]
     },
     "execution_count": 80,
     "metadata": {},
     "output_type": "execute_result"
    }
   ],
   "source": [
    "mat7"
   ]
  },
  {
   "cell_type": "code",
   "execution_count": 87,
   "id": "e1b01f6b",
   "metadata": {},
   "outputs": [
    {
     "data": {
      "text/plain": [
       "0.4595422912456393"
      ]
     },
     "execution_count": 87,
     "metadata": {},
     "output_type": "execute_result"
    }
   ],
   "source": [
    "mat7[5,5]"
   ]
  },
  {
   "cell_type": "code",
   "execution_count": 88,
   "id": "7179e279",
   "metadata": {},
   "outputs": [],
   "source": [
    "#Copying Arrays"
   ]
  },
  {
   "cell_type": "code",
   "execution_count": 89,
   "id": "61aa74dd",
   "metadata": {},
   "outputs": [
    {
     "data": {
      "text/plain": [
       "5×5 Matrix{Float64}:\n",
       " 0.298413  0.98704   0.611334     0.564293  0.482775\n",
       " 0.014252  0.165376  0.410201     0.71081   0.939948\n",
       " 0.983723  0.107903  0.760706     0.88952   0.55698\n",
       " 0.587506  0.903412  0.177653  9999.0       0.530244\n",
       " 0.379498  0.682551  0.78672      0.306932  0.459542"
      ]
     },
     "execution_count": 89,
     "metadata": {},
     "output_type": "execute_result"
    }
   ],
   "source": [
    "mat8 = copy(mat6)"
   ]
  },
  {
   "cell_type": "code",
   "execution_count": 90,
   "id": "e6a79e6e",
   "metadata": {},
   "outputs": [
    {
     "data": {
      "text/plain": [
       "0"
      ]
     },
     "execution_count": 90,
     "metadata": {},
     "output_type": "execute_result"
    }
   ],
   "source": [
    "mat7[4,5] = 000000"
   ]
  },
  {
   "cell_type": "code",
   "execution_count": 91,
   "id": "d4233c8f",
   "metadata": {},
   "outputs": [
    {
     "data": {
      "text/plain": [
       "5×5 Matrix{Float64}:\n",
       " 0.298413  0.98704   0.611334     0.564293  0.482775\n",
       " 0.014252  0.165376  0.410201     0.71081   0.939948\n",
       " 0.983723  0.107903  0.760706     0.88952   0.55698\n",
       " 0.587506  0.903412  0.177653  9999.0       0.0\n",
       " 0.379498  0.682551  0.78672      0.306932  0.459542"
      ]
     },
     "execution_count": 91,
     "metadata": {},
     "output_type": "execute_result"
    }
   ],
   "source": [
    "mat7"
   ]
  },
  {
   "cell_type": "code",
   "execution_count": 92,
   "id": "c70d544c",
   "metadata": {},
   "outputs": [],
   "source": [
    "# Comprehension"
   ]
  },
  {
   "cell_type": "code",
   "execution_count": 93,
   "id": "a1c8020d",
   "metadata": {},
   "outputs": [
    {
     "data": {
      "text/plain": [
       "10-element Vector{Int64}:\n",
       "  1\n",
       "  2\n",
       "  3\n",
       "  4\n",
       "  5\n",
       "  6\n",
       "  7\n",
       "  8\n",
       "  9\n",
       " 10"
      ]
     },
     "execution_count": 93,
     "metadata": {},
     "output_type": "execute_result"
    }
   ],
   "source": [
    "[i for i in 1:10]"
   ]
  },
  {
   "cell_type": "code",
   "execution_count": 96,
   "id": "51beb6a9",
   "metadata": {},
   "outputs": [
    {
     "data": {
      "text/plain": [
       "5×5 Matrix{Tuple{Int64, Int64}}:\n",
       " (1, 6)  (1, 7)  (1, 8)  (1, 9)  (1, 10)\n",
       " (2, 6)  (2, 7)  (2, 8)  (2, 9)  (2, 10)\n",
       " (3, 6)  (3, 7)  (3, 8)  (3, 9)  (3, 10)\n",
       " (4, 6)  (4, 7)  (4, 8)  (4, 9)  (4, 10)\n",
       " (5, 6)  (5, 7)  (5, 8)  (5, 9)  (5, 10)"
      ]
     },
     "execution_count": 96,
     "metadata": {},
     "output_type": "execute_result"
    }
   ],
   "source": [
    "[(i, j) for i in 1:5, j in 6:10] # for carteian product or nested loop"
   ]
  },
  {
   "cell_type": "code",
   "execution_count": 111,
   "id": "94972fae",
   "metadata": {},
   "outputs": [
    {
     "data": {
      "text/plain": [
       "5×5 Matrix{Tuple{Int64, Int64}}:\n",
       " (1, 6)    (1, 7)    (1, 8)    (1, 9)    (1, 10)\n",
       " (8, 6)    (8, 7)    (8, 8)    (8, 9)    (8, 10)\n",
       " (27, 6)   (27, 7)   (27, 8)   (27, 9)   (27, 10)\n",
       " (64, 6)   (64, 7)   (64, 8)   (64, 9)   (64, 10)\n",
       " (125, 6)  (125, 7)  (125, 8)  (125, 9)  (125, 10)"
      ]
     },
     "execution_count": 111,
     "metadata": {},
     "output_type": "execute_result"
    }
   ],
   "source": [
    "[(i^3, j) for i in 1:5, j in 6:10] # for carteian product/ nested loop have type Tuple"
   ]
  },
  {
   "cell_type": "code",
   "execution_count": 112,
   "id": "87002292",
   "metadata": {},
   "outputs": [],
   "source": [
    "# Matrix Operation"
   ]
  },
  {
   "cell_type": "code",
   "execution_count": 117,
   "id": "c73987c0",
   "metadata": {},
   "outputs": [
    {
     "data": {
      "text/plain": [
       "3×3 Matrix{Int64}:\n",
       "  6  10   8\n",
       " 10   6  10\n",
       "  9  10   9"
      ]
     },
     "execution_count": 117,
     "metadata": {},
     "output_type": "execute_result"
    }
   ],
   "source": [
    "A = rand(5:10,3,3) # 3x4 matrix values btw 5-10"
   ]
  },
  {
   "cell_type": "code",
   "execution_count": 125,
   "id": "515b76e5",
   "metadata": {},
   "outputs": [
    {
     "data": {
      "text/plain": [
       "3×3 Matrix{Float64}:\n",
       " 9.0  8.0  9.0\n",
       " 7.0  5.0  5.0\n",
       " 9.0  7.0  8.0"
      ]
     },
     "execution_count": 125,
     "metadata": {},
     "output_type": "execute_result"
    }
   ],
   "source": [
    "A = rand(5:10.0,3,3) # 3x4 matrix values btw 5-10 having float data type"
   ]
  },
  {
   "cell_type": "code",
   "execution_count": 139,
   "id": "e18f5af7",
   "metadata": {},
   "outputs": [
    {
     "data": {
      "text/plain": [
       "3×3 Matrix{Int64}:\n",
       " 2  2  2\n",
       " 2  2  2\n",
       " 2  2  2"
      ]
     },
     "execution_count": 139,
     "metadata": {},
     "output_type": "execute_result"
    }
   ],
   "source": [
    "y = fill(2, (3,3)) # instead random values you can give specific value"
   ]
  },
  {
   "cell_type": "code",
   "execution_count": 166,
   "id": "3f88ff4a",
   "metadata": {},
   "outputs": [
    {
     "data": {
      "text/plain": [
       "3×3 Matrix{Float64}:\n",
       " 52.0  52.0  52.0\n",
       " 34.0  34.0  34.0\n",
       " 48.0  48.0  48.0"
      ]
     },
     "execution_count": 166,
     "metadata": {},
     "output_type": "execute_result"
    }
   ],
   "source": [
    "z = A * y # add element of A row wise then multiple"
   ]
  },
  {
   "cell_type": "code",
   "execution_count": 167,
   "id": "dfff279e",
   "metadata": {},
   "outputs": [
    {
     "data": {
      "text/plain": [
       "3×3 adjoint(::Matrix{Float64}) with eltype Float64:\n",
       " 52.0  34.0  48.0\n",
       " 52.0  34.0  48.0\n",
       " 52.0  34.0  48.0"
      ]
     },
     "execution_count": 167,
     "metadata": {},
     "output_type": "execute_result"
    }
   ],
   "source": [
    "z'"
   ]
  },
  {
   "cell_type": "code",
   "execution_count": 168,
   "id": "e3f279b4",
   "metadata": {},
   "outputs": [
    {
     "data": {
      "text/plain": [
       "3×3 Matrix{Float64}:\n",
       " 6968.0  6968.0  6968.0\n",
       " 4556.0  4556.0  4556.0\n",
       " 6432.0  6432.0  6432.0"
      ]
     },
     "execution_count": 168,
     "metadata": {},
     "output_type": "execute_result"
    }
   ],
   "source": [
    "z * z"
   ]
  },
  {
   "cell_type": "code",
   "execution_count": 169,
   "id": "82f57161",
   "metadata": {},
   "outputs": [
    {
     "data": {
      "text/plain": [
       "3×3 Matrix{Float64}:\n",
       " 52.0  52.0  52.0\n",
       " 34.0  34.0  34.0\n",
       " 48.0  48.0  48.0"
      ]
     },
     "execution_count": 169,
     "metadata": {},
     "output_type": "execute_result"
    }
   ],
   "source": [
    "z"
   ]
  },
  {
   "cell_type": "code",
   "execution_count": 170,
   "id": "c11504e1",
   "metadata": {},
   "outputs": [
    {
     "data": {
      "text/plain": [
       "3×3 Matrix{Float64}:\n",
       " 104.0  104.0  104.0\n",
       "  68.0   68.0   68.0\n",
       "  96.0   96.0   96.0"
      ]
     },
     "execution_count": 170,
     "metadata": {},
     "output_type": "execute_result"
    }
   ],
   "source": [
    "z + z "
   ]
  },
  {
   "cell_type": "code",
   "execution_count": 171,
   "id": "50651c26",
   "metadata": {},
   "outputs": [
    {
     "data": {
      "text/plain": [
       "3×3 Matrix{Float64}:\n",
       " 0.0  0.0  0.0\n",
       " 0.0  0.0  0.0\n",
       " 0.0  0.0  0.0"
      ]
     },
     "execution_count": 171,
     "metadata": {},
     "output_type": "execute_result"
    }
   ],
   "source": [
    "z - z"
   ]
  },
  {
   "cell_type": "code",
   "execution_count": 172,
   "id": "09e9d2b9",
   "metadata": {},
   "outputs": [
    {
     "data": {
      "text/plain": [
       "134.0"
      ]
     },
     "execution_count": 172,
     "metadata": {},
     "output_type": "execute_result"
    }
   ],
   "source": [
    "tr(z)"
   ]
  },
  {
   "cell_type": "code",
   "execution_count": 173,
   "id": "9801a13f",
   "metadata": {},
   "outputs": [],
   "source": [
    "using LinearAlgebra # to solve tr() trace error"
   ]
  },
  {
   "cell_type": "code",
   "execution_count": 176,
   "id": "c7d1bb10",
   "metadata": {},
   "outputs": [
    {
     "data": {
      "text/plain": [
       "0.0"
      ]
     },
     "execution_count": 176,
     "metadata": {},
     "output_type": "execute_result"
    }
   ],
   "source": [
    "det(z)"
   ]
  },
  {
   "cell_type": "code",
   "execution_count": 183,
   "id": "157f6f3c",
   "metadata": {},
   "outputs": [
    {
     "data": {
      "text/plain": [
       "3×3 Matrix{Float64}:\n",
       " 6164.0  6164.0  6164.0\n",
       " 6164.0  6164.0  6164.0\n",
       " 6164.0  6164.0  6164.0"
      ]
     },
     "execution_count": 183,
     "metadata": {},
     "output_type": "execute_result"
    }
   ],
   "source": [
    "b = z'z"
   ]
  },
  {
   "cell_type": "code",
   "execution_count": 190,
   "id": "7cad0a93",
   "metadata": {},
   "outputs": [
    {
     "data": {
      "text/plain": [
       "3×3 Matrix{Int64}:\n",
       " 3  3  2\n",
       " 4  3  2\n",
       " 3  3  4"
      ]
     },
     "execution_count": 190,
     "metadata": {},
     "output_type": "execute_result"
    }
   ],
   "source": [
    "b = rand(2:4,3,3)"
   ]
  },
  {
   "cell_type": "code",
   "execution_count": 192,
   "id": "0f303335",
   "metadata": {},
   "outputs": [
    {
     "data": {
      "text/plain": [
       "3×3 Matrix{Float64}:\n",
       " -1.0       1.0  -0.0\n",
       "  1.66667  -1.0  -0.333333\n",
       " -0.5       0.0   0.5"
      ]
     },
     "execution_count": 192,
     "metadata": {},
     "output_type": "execute_result"
    }
   ],
   "source": [
    "inv(b)"
   ]
  },
  {
   "cell_type": "code",
   "execution_count": 193,
   "id": "6be2a839",
   "metadata": {},
   "outputs": [
    {
     "data": {
      "text/plain": [
       "1×2×3 Array{Float64, 3}:\n",
       "[:, :, 1] =\n",
       " 0.727683  0.438732\n",
       "\n",
       "[:, :, 2] =\n",
       " 0.49159  0.636954\n",
       "\n",
       "[:, :, 3] =\n",
       " 0.0149855  0.493784"
      ]
     },
     "execution_count": 193,
     "metadata": {},
     "output_type": "execute_result"
    }
   ],
   "source": [
    "rand(1,2,3) # 3 array outer than 1 row and two column "
   ]
  },
  {
   "cell_type": "code",
   "execution_count": 196,
   "id": "fb0052fe",
   "metadata": {},
   "outputs": [
    {
     "data": {
      "text/plain": [
       "1×2×3×4 Array{Float64, 4}:\n",
       "[:, :, 1, 1] =\n",
       " 0.00383408  0.105277\n",
       "\n",
       "[:, :, 2, 1] =\n",
       " 0.980263  0.719664\n",
       "\n",
       "[:, :, 3, 1] =\n",
       " 0.44779  0.402157\n",
       "\n",
       "[:, :, 1, 2] =\n",
       " 0.831996  0.168807\n",
       "\n",
       "[:, :, 2, 2] =\n",
       " 0.84296  0.748647\n",
       "\n",
       "[:, :, 3, 2] =\n",
       " 0.0500278  0.786605\n",
       "\n",
       "[:, :, 1, 3] =\n",
       " 0.474372  0.0647256\n",
       "\n",
       "[:, :, 2, 3] =\n",
       " 0.960769  0.551638\n",
       "\n",
       "[:, :, 3, 3] =\n",
       " 0.859985  0.110831\n",
       "\n",
       "[:, :, 1, 4] =\n",
       " 0.918031  0.865503\n",
       "\n",
       "[:, :, 2, 4] =\n",
       " 0.0692495  0.350891\n",
       "\n",
       "[:, :, 3, 4] =\n",
       " 0.317428  0.262524"
      ]
     },
     "execution_count": 196,
     "metadata": {},
     "output_type": "execute_result"
    }
   ],
   "source": [
    "rand(1,2,3,4) # you can create any number of dimention array"
   ]
  },
  {
   "cell_type": "code",
   "execution_count": null,
   "id": "8dc85bf0",
   "metadata": {},
   "outputs": [],
   "source": []
  }
 ],
 "metadata": {
  "kernelspec": {
   "display_name": "Julia 1.8.4",
   "language": "julia",
   "name": "julia-1.8"
  },
  "language_info": {
   "file_extension": ".jl",
   "mimetype": "application/julia",
   "name": "julia",
   "version": "1.8.4"
  }
 },
 "nbformat": 4,
 "nbformat_minor": 5
}
