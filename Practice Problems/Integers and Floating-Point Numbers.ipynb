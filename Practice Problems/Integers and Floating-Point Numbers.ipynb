{
 "cells": [
  {
   "cell_type": "code",
   "execution_count": 1,
   "id": "c1e75d9c",
   "metadata": {},
   "outputs": [
    {
     "data": {
      "text/plain": [
       "12"
      ]
     },
     "execution_count": 1,
     "metadata": {},
     "output_type": "execute_result"
    }
   ],
   "source": [
    "12"
   ]
  },
  {
   "cell_type": "code",
   "execution_count": 2,
   "id": "0226bfb0",
   "metadata": {},
   "outputs": [
    {
     "data": {
      "text/plain": [
       "124234"
      ]
     },
     "execution_count": 2,
     "metadata": {},
     "output_type": "execute_result"
    }
   ],
   "source": [
    "124234"
   ]
  },
  {
   "cell_type": "code",
   "execution_count": 3,
   "id": "3d0d541b",
   "metadata": {},
   "outputs": [
    {
     "data": {
      "text/plain": [
       "Int64"
      ]
     },
     "execution_count": 3,
     "metadata": {},
     "output_type": "execute_result"
    }
   ],
   "source": [
    "# 32-bit system:\n",
    "typeof(12)"
   ]
  },
  {
   "cell_type": "code",
   "execution_count": 5,
   "id": "69f6ec4d",
   "metadata": {},
   "outputs": [
    {
     "data": {
      "text/plain": [
       "Int64"
      ]
     },
     "execution_count": 5,
     "metadata": {},
     "output_type": "execute_result"
    }
   ],
   "source": [
    "# 64-bit system:\n",
    "typeof(12)\n",
    "Int64"
   ]
  },
  {
   "cell_type": "code",
   "execution_count": 8,
   "id": "e3de9f6d",
   "metadata": {},
   "outputs": [
    {
     "data": {
      "text/plain": [
       "64"
      ]
     },
     "execution_count": 8,
     "metadata": {},
     "output_type": "execute_result"
    }
   ],
   "source": [
    "# The Julia internal variable Sys.WORD_SIZE indicates whether the target system is 32-bit or 64-bit:\n",
    "Sys.WORD_SIZE"
   ]
  },
  {
   "cell_type": "code",
   "execution_count": 12,
   "id": "e506f463",
   "metadata": {},
   "outputs": [],
   "source": [
    "# Julia also defines the types Int and UInt, which are aliases for the system's signed and unsigned native integer types respectively:"
   ]
  },
  {
   "cell_type": "code",
   "execution_count": 15,
   "id": "d913d553",
   "metadata": {},
   "outputs": [
    {
     "data": {
      "text/plain": [
       "Int64"
      ]
     },
     "execution_count": 15,
     "metadata": {},
     "output_type": "execute_result"
    }
   ],
   "source": [
    "Int # signed"
   ]
  },
  {
   "cell_type": "code",
   "execution_count": 16,
   "id": "d8e8f849",
   "metadata": {},
   "outputs": [
    {
     "data": {
      "text/plain": [
       "UInt64"
      ]
     },
     "execution_count": 16,
     "metadata": {},
     "output_type": "execute_result"
    }
   ],
   "source": [
    "UInt #Un signed"
   ]
  },
  {
   "cell_type": "code",
   "execution_count": 17,
   "id": "4461ce41",
   "metadata": {},
   "outputs": [
    {
     "ename": "LoadError",
     "evalue": "syntax: extra token \"integers\" after end of expression",
     "output_type": "error",
     "traceback": [
      "syntax: extra token \"integers\" after end of expression",
      "",
      "Stacktrace:",
      " [1] top-level scope",
      "   @ In[17]:1"
     ]
    }
   ],
   "source": [
    "Unsigned integers are input and output using the 0x prefix and hexadecimal (base 16) digits 0-9a-f (the capitalized digits A-F also work for input). The size of the unsigned value is determined by the number of hex digits used:"
   ]
  },
  {
   "cell_type": "code",
   "execution_count": 23,
   "id": "651d86b9",
   "metadata": {},
   "outputs": [
    {
     "data": {
      "text/plain": [
       "UInt32"
      ]
     },
     "execution_count": 23,
     "metadata": {},
     "output_type": "execute_result"
    }
   ],
   "source": [
    "x = 0x1234567\n",
    "typeof(x)"
   ]
  },
  {
   "cell_type": "code",
   "execution_count": 24,
   "id": "666ca3e1",
   "metadata": {},
   "outputs": [
    {
     "data": {
      "text/plain": [
       "UInt8"
      ]
     },
     "execution_count": 24,
     "metadata": {},
     "output_type": "execute_result"
    }
   ],
   "source": [
    "x = 0x1\n",
    "typeof(x)"
   ]
  },
  {
   "cell_type": "code",
   "execution_count": 25,
   "id": "7a2223d0",
   "metadata": {},
   "outputs": [
    {
     "data": {
      "text/plain": [
       "UInt16"
      ]
     },
     "execution_count": 25,
     "metadata": {},
     "output_type": "execute_result"
    }
   ],
   "source": [
    "x = 0x123\n",
    "typeof(x)"
   ]
  },
  {
   "cell_type": "code",
   "execution_count": 22,
   "id": "44f04f1e",
   "metadata": {},
   "outputs": [
    {
     "data": {
      "text/plain": [
       "UInt64"
      ]
     },
     "execution_count": 22,
     "metadata": {},
     "output_type": "execute_result"
    }
   ],
   "source": [
    "x = 0x123456789abcdef\n",
    "typeof(x)"
   ]
  },
  {
   "cell_type": "code",
   "execution_count": 26,
   "id": "7f1ce670",
   "metadata": {},
   "outputs": [
    {
     "name": "stdout",
     "output_type": "stream",
     "text": [
      "   Int8: [-128,127]\n",
      "  Int16: [-32768,32767]\n",
      "  Int32: [-2147483648,2147483647]\n",
      "  Int64: [-9223372036854775808,9223372036854775807]\n",
      " Int128: [-170141183460469231731687303715884105728,170141183460469231731687303715884105727]\n",
      "  UInt8: [0,255]\n",
      " UInt16: [0,65535]\n",
      " UInt32: [0,4294967295]\n",
      " UInt64: [0,18446744073709551615]\n",
      "UInt128: [0,340282366920938463463374607431768211455]\n"
     ]
    }
   ],
   "source": [
    "for T in [Int8,Int16,Int32,Int64,Int128,UInt8,UInt16,UInt32,UInt64,UInt128]\n",
    "           println(\"$(lpad(T,7)): [$(typemin(T)),$(typemax(T))]\")\n",
    "       end"
   ]
  },
  {
   "cell_type": "code",
   "execution_count": 27,
   "id": "99685d8c",
   "metadata": {},
   "outputs": [
    {
     "data": {
      "text/plain": [
       "0xfe"
      ]
     },
     "execution_count": 27,
     "metadata": {},
     "output_type": "execute_result"
    }
   ],
   "source": [
    "-0x2"
   ]
  },
  {
   "cell_type": "code",
   "execution_count": 28,
   "id": "47af8e57",
   "metadata": {},
   "outputs": [
    {
     "ename": "LoadError",
     "evalue": "syntax: extra token \"Numbers\" after end of expression",
     "output_type": "error",
     "traceback": [
      "syntax: extra token \"Numbers\" after end of expression",
      "",
      "Stacktrace:",
      " [1] top-level scope",
      "   @ In[28]:1"
     ]
    }
   ],
   "source": [
    "Floating-Point Numbers"
   ]
  },
  {
   "cell_type": "code",
   "execution_count": 29,
   "id": "c91bbcfd",
   "metadata": {},
   "outputs": [
    {
     "data": {
      "text/plain": [
       "2.0"
      ]
     },
     "execution_count": 29,
     "metadata": {},
     "output_type": "execute_result"
    }
   ],
   "source": [
    "2.0"
   ]
  },
  {
   "cell_type": "code",
   "execution_count": 31,
   "id": "656ab7cb",
   "metadata": {},
   "outputs": [
    {
     "data": {
      "text/plain": [
       "Float32"
      ]
     },
     "execution_count": 31,
     "metadata": {},
     "output_type": "execute_result"
    }
   ],
   "source": [
    "x = 0.5f0\n",
    "typeof(x)\n"
   ]
  },
  {
   "cell_type": "code",
   "execution_count": 34,
   "id": "17f9cb3d",
   "metadata": {},
   "outputs": [
    {
     "data": {
      "text/plain": [
       "Float32"
      ]
     },
     "execution_count": 34,
     "metadata": {},
     "output_type": "execute_result"
    }
   ],
   "source": [
    "x = Float32(-1.534)\n",
    "typeof(x)\n"
   ]
  },
  {
   "cell_type": "code",
   "execution_count": 35,
   "id": "046f6f5a",
   "metadata": {},
   "outputs": [
    {
     "ename": "LoadError",
     "evalue": "syntax: extra token \"zero\" after end of expression",
     "output_type": "error",
     "traceback": [
      "syntax: extra token \"zero\" after end of expression",
      "",
      "Stacktrace:",
      " [1] top-level scope",
      "   @ In[35]:1"
     ]
    }
   ],
   "source": [
    "Floating-point zero\n",
    "Floating-point numbers have two zeros, positive zero and negative zero. They are equal to each other but have different binary representations, as can be seen using the bitstring function:"
   ]
  },
  {
   "cell_type": "code",
   "execution_count": 36,
   "id": "63cb056a",
   "metadata": {},
   "outputs": [
    {
     "data": {
      "text/plain": [
       "true"
      ]
     },
     "execution_count": 36,
     "metadata": {},
     "output_type": "execute_result"
    }
   ],
   "source": [
    "0.0 == -0.0"
   ]
  },
  {
   "cell_type": "code",
   "execution_count": 37,
   "id": "82e6b4a2",
   "metadata": {},
   "outputs": [
    {
     "data": {
      "text/plain": [
       "\"1000000000000000000000000000000000000000000000000000000000000000\""
      ]
     },
     "execution_count": 37,
     "metadata": {},
     "output_type": "execute_result"
    }
   ],
   "source": [
    "bitstring(0.0)"
   ]
  },
  {
   "cell_type": "code",
   "execution_count": 38,
   "id": "18c5ed6e",
   "metadata": {},
   "outputs": [
    {
     "data": {
      "text/plain": [
       "\"1000000000000000000000000000000000000000000000000000000000000000\""
      ]
     },
     "execution_count": 38,
     "metadata": {},
     "output_type": "execute_result"
    }
   ],
   "source": [
    "bitstring(-0.0)"
   ]
  },
  {
   "cell_type": "code",
   "execution_count": 39,
   "id": "e2479164",
   "metadata": {},
   "outputs": [
    {
     "data": {
      "text/plain": [
       "0.0"
      ]
     },
     "execution_count": 39,
     "metadata": {},
     "output_type": "execute_result"
    }
   ],
   "source": [
    "1/Inf\n"
   ]
  },
  {
   "cell_type": "code",
   "execution_count": 41,
   "id": "a17ce7df",
   "metadata": {},
   "outputs": [
    {
     "data": {
      "text/plain": [
       "Inf"
      ]
     },
     "execution_count": 41,
     "metadata": {},
     "output_type": "execute_result"
    }
   ],
   "source": [
    "1/0"
   ]
  },
  {
   "cell_type": "code",
   "execution_count": 42,
   "id": "d6abb49c",
   "metadata": {},
   "outputs": [
    {
     "data": {
      "text/plain": [
       "-Inf"
      ]
     },
     "execution_count": 42,
     "metadata": {},
     "output_type": "execute_result"
    }
   ],
   "source": [
    "-12/0"
   ]
  },
  {
   "cell_type": "code",
   "execution_count": 43,
   "id": "73c920c0",
   "metadata": {},
   "outputs": [
    {
     "data": {
      "text/plain": [
       "Inf"
      ]
     },
     "execution_count": 43,
     "metadata": {},
     "output_type": "execute_result"
    }
   ],
   "source": [
    "0.00009 / 0"
   ]
  },
  {
   "cell_type": "code",
   "execution_count": 44,
   "id": "569720eb",
   "metadata": {},
   "outputs": [
    {
     "data": {
      "text/plain": [
       "false"
      ]
     },
     "execution_count": 44,
     "metadata": {},
     "output_type": "execute_result"
    }
   ],
   "source": [
    "NaN == NaN"
   ]
  },
  {
   "cell_type": "code",
   "execution_count": 45,
   "id": "dd9f39fe",
   "metadata": {},
   "outputs": [
    {
     "data": {
      "text/plain": [
       "Inf"
      ]
     },
     "execution_count": 45,
     "metadata": {},
     "output_type": "execute_result"
    }
   ],
   "source": [
    "500 + Inf"
   ]
  },
  {
   "cell_type": "code",
   "execution_count": 46,
   "id": "43201b2a",
   "metadata": {},
   "outputs": [
    {
     "data": {
      "text/plain": [
       "-Inf"
      ]
     },
     "execution_count": 46,
     "metadata": {},
     "output_type": "execute_result"
    }
   ],
   "source": [
    "200 - Inf"
   ]
  },
  {
   "cell_type": "code",
   "execution_count": 47,
   "id": "f4a086c3",
   "metadata": {},
   "outputs": [
    {
     "data": {
      "text/plain": [
       "true"
      ]
     },
     "execution_count": 47,
     "metadata": {},
     "output_type": "execute_result"
    }
   ],
   "source": [
    "NaN != NaN"
   ]
  },
  {
   "cell_type": "code",
   "execution_count": 48,
   "id": "a2af1a7e",
   "metadata": {},
   "outputs": [
    {
     "data": {
      "text/plain": [
       "false"
      ]
     },
     "execution_count": 48,
     "metadata": {},
     "output_type": "execute_result"
    }
   ],
   "source": [
    "NaN > NaN"
   ]
  },
  {
   "cell_type": "code",
   "execution_count": 49,
   "id": "4d54cd7e",
   "metadata": {},
   "outputs": [
    {
     "data": {
      "text/plain": [
       "false"
      ]
     },
     "execution_count": 49,
     "metadata": {},
     "output_type": "execute_result"
    }
   ],
   "source": [
    "NaN < NaN"
   ]
  },
  {
   "cell_type": "code",
   "execution_count": 50,
   "id": "7b40bef9",
   "metadata": {},
   "outputs": [
    {
     "data": {
      "text/plain": [
       "(-Inf16, Inf16)"
      ]
     },
     "execution_count": 50,
     "metadata": {},
     "output_type": "execute_result"
    }
   ],
   "source": [
    "(typemin(Float16),typemax(Float16))"
   ]
  },
  {
   "cell_type": "code",
   "execution_count": 51,
   "id": "d61fbf9a",
   "metadata": {},
   "outputs": [
    {
     "data": {
      "text/plain": [
       "(-Inf32, Inf32)"
      ]
     },
     "execution_count": 51,
     "metadata": {},
     "output_type": "execute_result"
    }
   ],
   "source": [
    "(typemin(Float32),typemax(Float32))"
   ]
  },
  {
   "cell_type": "code",
   "execution_count": 52,
   "id": "ab4596a5",
   "metadata": {},
   "outputs": [
    {
     "data": {
      "text/plain": [
       "(-Inf, Inf)"
      ]
     },
     "execution_count": 52,
     "metadata": {},
     "output_type": "execute_result"
    }
   ],
   "source": [
    "(typemin(Float64),typemax(Float64))"
   ]
  },
  {
   "cell_type": "code",
   "execution_count": 53,
   "id": "24eb6ecd",
   "metadata": {},
   "outputs": [
    {
     "ename": "LoadError",
     "evalue": "syntax: extra token \"provides\" after end of expression",
     "output_type": "error",
     "traceback": [
      "syntax: extra token \"provides\" after end of expression",
      "",
      "Stacktrace:",
      " [1] top-level scope",
      "   @ In[53]:1"
     ]
    }
   ],
   "source": [
    "Julia provides eps, which gives the distance between 1.0 and the next larger representable floating-point value:"
   ]
  },
  {
   "cell_type": "code",
   "execution_count": 54,
   "id": "4e740235",
   "metadata": {},
   "outputs": [
    {
     "data": {
      "text/plain": [
       "2.220446049250313e-16"
      ]
     },
     "execution_count": 54,
     "metadata": {},
     "output_type": "execute_result"
    }
   ],
   "source": [
    "eps()"
   ]
  },
  {
   "cell_type": "code",
   "execution_count": 55,
   "id": "f001c0a8",
   "metadata": {},
   "outputs": [
    {
     "data": {
      "text/plain": [
       "2.220446049250313e-16"
      ]
     },
     "execution_count": 55,
     "metadata": {},
     "output_type": "execute_result"
    }
   ],
   "source": [
    "eps(1.0)"
   ]
  },
  {
   "cell_type": "code",
   "execution_count": 56,
   "id": "14d8b18b",
   "metadata": {},
   "outputs": [
    {
     "data": {
      "text/plain": [
       "1.1368683772161603e-13"
      ]
     },
     "execution_count": 56,
     "metadata": {},
     "output_type": "execute_result"
    }
   ],
   "source": [
    "eps(1000.0)"
   ]
  },
  {
   "cell_type": "code",
   "execution_count": 57,
   "id": "5626cac6",
   "metadata": {},
   "outputs": [
    {
     "data": {
      "text/plain": [
       "2.220446049250313e-16"
      ]
     },
     "execution_count": 57,
     "metadata": {},
     "output_type": "execute_result"
    }
   ],
   "source": [
    "eps(1.0)"
   ]
  },
  {
   "cell_type": "code",
   "execution_count": null,
   "id": "f9fe2915",
   "metadata": {},
   "outputs": [],
   "source": []
  }
 ],
 "metadata": {
  "kernelspec": {
   "display_name": "Julia 1.8.4",
   "language": "julia",
   "name": "julia-1.8"
  },
  "language_info": {
   "file_extension": ".jl",
   "mimetype": "application/julia",
   "name": "julia",
   "version": "1.8.4"
  }
 },
 "nbformat": 4,
 "nbformat_minor": 5
}
