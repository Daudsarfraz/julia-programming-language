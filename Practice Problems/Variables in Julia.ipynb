{
 "cells": [
  {
   "cell_type": "code",
   "execution_count": 5,
   "id": "1020f67a",
   "metadata": {},
   "outputs": [
    {
     "data": {
      "text/plain": [
       "10"
      ]
     },
     "execution_count": 5,
     "metadata": {},
     "output_type": "execute_result"
    }
   ],
   "source": [
    "num = 10"
   ]
  },
  {
   "cell_type": "code",
   "execution_count": 6,
   "id": "140512ad",
   "metadata": {},
   "outputs": [
    {
     "data": {
      "text/plain": [
       "10"
      ]
     },
     "execution_count": 6,
     "metadata": {},
     "output_type": "execute_result"
    }
   ],
   "source": [
    "num"
   ]
  },
  {
   "cell_type": "code",
   "execution_count": 12,
   "id": "7e6e280b",
   "metadata": {},
   "outputs": [
    {
     "data": {
      "text/plain": [
       "\"Hello World!\""
      ]
     },
     "execution_count": 12,
     "metadata": {},
     "output_type": "execute_result"
    }
   ],
   "source": [
    "y = \"Hello World!\""
   ]
  },
  {
   "cell_type": "code",
   "execution_count": 13,
   "id": "f2e23b03",
   "metadata": {},
   "outputs": [
    {
     "data": {
      "text/plain": [
       "\"Hello World!\""
      ]
     },
     "execution_count": 13,
     "metadata": {},
     "output_type": "execute_result"
    }
   ],
   "source": [
    "y"
   ]
  },
  {
   "cell_type": "code",
   "execution_count": 10,
   "id": "ffabbbb9",
   "metadata": {},
   "outputs": [
    {
     "data": {
      "text/plain": [
       "10"
      ]
     },
     "execution_count": 10,
     "metadata": {},
     "output_type": "execute_result"
    }
   ],
   "source": [
    "x = 10"
   ]
  },
  {
   "cell_type": "code",
   "execution_count": 14,
   "id": "d981dace",
   "metadata": {},
   "outputs": [
    {
     "data": {
      "text/plain": [
       "11"
      ]
     },
     "execution_count": 14,
     "metadata": {},
     "output_type": "execute_result"
    }
   ],
   "source": [
    "x + 1"
   ]
  },
  {
   "cell_type": "code",
   "execution_count": 15,
   "id": "7b537ac6",
   "metadata": {},
   "outputs": [
    {
     "data": {
      "text/plain": [
       "\"Hello world!\""
      ]
     },
     "execution_count": 15,
     "metadata": {},
     "output_type": "execute_result"
    }
   ],
   "source": [
    "hello_world = \"Hello world!\""
   ]
  },
  {
   "cell_type": "code",
   "execution_count": 45,
   "id": "7e3cde10",
   "metadata": {},
   "outputs": [],
   "source": [
    "# Julia use unicode python does not\n",
    "# julia aims to translate mathematical model similar in math while remain visually similar\n",
    "# print() does not include a newline after the printed text while println() includes a newline."
   ]
  },
  {
   "cell_type": "code",
   "execution_count": 16,
   "id": "696bd557",
   "metadata": {},
   "outputs": [
    {
     "ename": "LoadError",
     "evalue": "syntax: \"\\\" is not a unary operator",
     "output_type": "error",
     "traceback": [
      "syntax: \"\\\" is not a unary operator",
      "",
      "Stacktrace:",
      " [1] top-level scope",
      "   @ In[16]:1"
     ]
    }
   ],
   "source": [
    "\\:smi # than hit TAB enter for auto complete than select and again hit TAB"
   ]
  },
  {
   "cell_type": "code",
   "execution_count": 17,
   "id": "032bc87d",
   "metadata": {},
   "outputs": [
    {
     "data": {
      "text/plain": [
       "\"🥰\""
      ]
     },
     "execution_count": 17,
     "metadata": {},
     "output_type": "execute_result"
    }
   ],
   "source": [
    "😸 = \"🥰\""
   ]
  },
  {
   "cell_type": "code",
   "execution_count": 18,
   "id": "b3680188",
   "metadata": {},
   "outputs": [
    {
     "data": {
      "text/plain": [
       "\"🥰\""
      ]
     },
     "execution_count": 18,
     "metadata": {},
     "output_type": "execute_result"
    }
   ],
   "source": [
    "😸"
   ]
  },
  {
   "cell_type": "code",
   "execution_count": 19,
   "id": "aca90bc0",
   "metadata": {},
   "outputs": [
    {
     "data": {
      "text/plain": [
       "String"
      ]
     },
     "execution_count": 19,
     "metadata": {},
     "output_type": "execute_result"
    }
   ],
   "source": [
    "typeof(😸)"
   ]
  },
  {
   "cell_type": "code",
   "execution_count": 20,
   "id": "5c82097e",
   "metadata": {},
   "outputs": [
    {
     "data": {
      "text/plain": [
       "π = 3.1415926535897..."
      ]
     },
     "execution_count": 20,
     "metadata": {},
     "output_type": "execute_result"
    }
   ],
   "source": [
    "π # \\pi and hit TAB than enter + shift\n"
   ]
  },
  {
   "cell_type": "code",
   "execution_count": 21,
   "id": "eb1acbf3",
   "metadata": {},
   "outputs": [
    {
     "data": {
      "text/plain": [
       "2.76"
      ]
     },
     "execution_count": 21,
     "metadata": {},
     "output_type": "execute_result"
    }
   ],
   "source": [
    "ϵ = 2.76 # \\eps and hit TAB than enter + shift"
   ]
  },
  {
   "cell_type": "code",
   "execution_count": 35,
   "id": "e5f1cb65",
   "metadata": {},
   "outputs": [
    {
     "data": {
      "text/plain": [
       "58.02782975999998"
      ]
     },
     "execution_count": 35,
     "metadata": {},
     "output_type": "execute_result"
    }
   ],
   "source": [
    "ϵ^4 # julid uses the Little Hat symbol for power/exponentiation not double ** like other languages"
   ]
  },
  {
   "cell_type": "code",
   "execution_count": 36,
   "id": "90825584",
   "metadata": {},
   "outputs": [
    {
     "data": {
      "text/plain": [
       "String"
      ]
     },
     "execution_count": 36,
     "metadata": {},
     "output_type": "execute_result"
    }
   ],
   "source": [
    "typeof(\"a\") # double quotes used for string"
   ]
  },
  {
   "cell_type": "code",
   "execution_count": 37,
   "id": "cea6673a",
   "metadata": {},
   "outputs": [
    {
     "data": {
      "text/plain": [
       "Char"
      ]
     },
     "execution_count": 37,
     "metadata": {},
     "output_type": "execute_result"
    }
   ],
   "source": [
    "typeof('a') # single quotes used for Char"
   ]
  },
  {
   "cell_type": "code",
   "execution_count": 16,
   "id": "fd1faef0",
   "metadata": {},
   "outputs": [
    {
     "data": {
      "text/plain": [
       "2.3"
      ]
     },
     "execution_count": 16,
     "metadata": {},
     "output_type": "execute_result"
    }
   ],
   "source": [
    "σ = 2.3"
   ]
  },
  {
   "cell_type": "code",
   "execution_count": 18,
   "id": "a79692ce",
   "metadata": {},
   "outputs": [
    {
     "data": {
      "text/plain": [
       "0.99"
      ]
     },
     "execution_count": 18,
     "metadata": {},
     "output_type": "execute_result"
    }
   ],
   "source": [
    "δ = 0.99"
   ]
  },
  {
   "cell_type": "code",
   "execution_count": 39,
   "id": "aef96ef4",
   "metadata": {},
   "outputs": [
    {
     "name": "stdout",
     "output_type": "stream",
     "text": [
      " σ = 2.3\n"
     ]
    }
   ],
   "source": [
    "println(\" σ = \" , σ) # printing "
   ]
  },
  {
   "cell_type": "code",
   "execution_count": 41,
   "id": "352b0cfe",
   "metadata": {},
   "outputs": [
    {
     "name": "stdout",
     "output_type": "stream",
     "text": [
      "search: \u001b[0m\u001b[1mp\u001b[22m\u001b[0m\u001b[1mr\u001b[22m\u001b[0m\u001b[1mi\u001b[22m\u001b[0m\u001b[1mn\u001b[22m\u001b[0m\u001b[1mt\u001b[22m\u001b[0m\u001b[1ml\u001b[22m\u001b[0m\u001b[1mn\u001b[22m \u001b[0m\u001b[1mp\u001b[22m\u001b[0m\u001b[1mr\u001b[22m\u001b[0m\u001b[1mi\u001b[22m\u001b[0m\u001b[1mn\u001b[22m\u001b[0m\u001b[1mt\u001b[22msty\u001b[0m\u001b[1ml\u001b[22med \u001b[0m\u001b[1mp\u001b[22m\u001b[0m\u001b[1mr\u001b[22m\u001b[0m\u001b[1mi\u001b[22m\u001b[0m\u001b[1mn\u001b[22m\u001b[0m\u001b[1mt\u001b[22m s\u001b[0m\u001b[1mp\u001b[22m\u001b[0m\u001b[1mr\u001b[22m\u001b[0m\u001b[1mi\u001b[22m\u001b[0m\u001b[1mn\u001b[22m\u001b[0m\u001b[1mt\u001b[22m is\u001b[0m\u001b[1mp\u001b[22m\u001b[0m\u001b[1mr\u001b[22m\u001b[0m\u001b[1mi\u001b[22m\u001b[0m\u001b[1mn\u001b[22m\u001b[0m\u001b[1mt\u001b[22m\n",
      "\n"
     ]
    },
    {
     "data": {
      "text/latex": [
       "\\begin{verbatim}\n",
       "println([io::IO], xs...)\n",
       "\\end{verbatim}\n",
       "Print (using \\href{@ref}{\\texttt{print}}) \\texttt{xs} to \\texttt{io} followed by a newline. If \\texttt{io} is not supplied, prints to the default output stream \\href{@ref}{\\texttt{stdout}}.\n",
       "\n",
       "See also \\href{@ref}{\\texttt{printstyled}} to add colors etc.\n",
       "\n",
       "\\section{Examples}\n",
       "\\begin{verbatim}\n",
       "julia> println(\"Hello, world\")\n",
       "Hello, world\n",
       "\n",
       "julia> io = IOBuffer();\n",
       "\n",
       "julia> println(io, \"Hello\", ',', \" world.\")\n",
       "\n",
       "julia> String(take!(io))\n",
       "\"Hello, world.\\n\"\n",
       "\\end{verbatim}\n"
      ],
      "text/markdown": [
       "```\n",
       "println([io::IO], xs...)\n",
       "```\n",
       "\n",
       "Print (using [`print`](@ref)) `xs` to `io` followed by a newline. If `io` is not supplied, prints to the default output stream [`stdout`](@ref).\n",
       "\n",
       "See also [`printstyled`](@ref) to add colors etc.\n",
       "\n",
       "# Examples\n",
       "\n",
       "```jldoctest\n",
       "julia> println(\"Hello, world\")\n",
       "Hello, world\n",
       "\n",
       "julia> io = IOBuffer();\n",
       "\n",
       "julia> println(io, \"Hello\", ',', \" world.\")\n",
       "\n",
       "julia> String(take!(io))\n",
       "\"Hello, world.\\n\"\n",
       "```\n"
      ],
      "text/plain": [
       "\u001b[36m  println([io::IO], xs...)\u001b[39m\n",
       "\n",
       "  Print (using \u001b[36mprint\u001b[39m) \u001b[36mxs\u001b[39m to \u001b[36mio\u001b[39m followed by a newline. If \u001b[36mio\u001b[39m is not supplied,\n",
       "  prints to the default output stream \u001b[36mstdout\u001b[39m.\n",
       "\n",
       "  See also \u001b[36mprintstyled\u001b[39m to add colors etc.\n",
       "\n",
       "\u001b[1m  Examples\u001b[22m\n",
       "\u001b[1m  ≡≡≡≡≡≡≡≡≡≡\u001b[22m\n",
       "\n",
       "\u001b[36m  julia> println(\"Hello, world\")\u001b[39m\n",
       "\u001b[36m  Hello, world\u001b[39m\n",
       "\u001b[36m  \u001b[39m\n",
       "\u001b[36m  julia> io = IOBuffer();\u001b[39m\n",
       "\u001b[36m  \u001b[39m\n",
       "\u001b[36m  julia> println(io, \"Hello\", ',', \" world.\")\u001b[39m\n",
       "\u001b[36m  \u001b[39m\n",
       "\u001b[36m  julia> String(take!(io))\u001b[39m\n",
       "\u001b[36m  \"Hello, world.\\n\"\u001b[39m"
      ]
     },
     "execution_count": 41,
     "metadata": {},
     "output_type": "execute_result"
    }
   ],
   "source": [
    "? println"
   ]
  },
  {
   "cell_type": "code",
   "execution_count": 42,
   "id": "e95234eb",
   "metadata": {},
   "outputs": [
    {
     "data": {
      "text/plain": [
       "Int64"
      ]
     },
     "execution_count": 42,
     "metadata": {},
     "output_type": "execute_result"
    }
   ],
   "source": [
    "num = 23\n",
    "typeof(num)"
   ]
  },
  {
   "cell_type": "code",
   "execution_count": 43,
   "id": "692c10ee",
   "metadata": {},
   "outputs": [
    {
     "data": {
      "text/plain": [
       "Float64"
      ]
     },
     "execution_count": 43,
     "metadata": {},
     "output_type": "execute_result"
    }
   ],
   "source": [
    "num2 = 67.78\n",
    "typeof(num2)"
   ]
  },
  {
   "cell_type": "code",
   "execution_count": 44,
   "id": "a6de553e",
   "metadata": {},
   "outputs": [
    {
     "data": {
      "text/plain": [
       "(100, 200)"
      ]
     },
     "execution_count": 44,
     "metadata": {},
     "output_type": "execute_result"
    }
   ],
   "source": [
    "a , b = 100, 200"
   ]
  },
  {
   "cell_type": "code",
   "execution_count": 50,
   "id": "a447a3d3",
   "metadata": {},
   "outputs": [],
   "source": [
    "# print() does not include a newline after the printed text while println() includes a newline."
   ]
  },
  {
   "cell_type": "code",
   "execution_count": 51,
   "id": "a64acf54",
   "metadata": {},
   "outputs": [
    {
     "name": "stdout",
     "output_type": "stream",
     "text": [
      "100\n",
      "200\n"
     ]
    }
   ],
   "source": [
    "println(a)\n",
    "println(b)"
   ]
  },
  {
   "cell_type": "code",
   "execution_count": 52,
   "id": "7e8ba069",
   "metadata": {},
   "outputs": [
    {
     "name": "stdout",
     "output_type": "stream",
     "text": [
      "100200"
     ]
    }
   ],
   "source": [
    "print(a)\n",
    "print(b)"
   ]
  },
  {
   "cell_type": "code",
   "execution_count": 54,
   "id": "95932379",
   "metadata": {},
   "outputs": [
    {
     "data": {
      "text/plain": [
       "4"
      ]
     },
     "execution_count": 54,
     "metadata": {},
     "output_type": "execute_result"
    }
   ],
   "source": [
    ":4 # literal type"
   ]
  },
  {
   "cell_type": "code",
   "execution_count": 64,
   "id": "bfec12c6",
   "metadata": {},
   "outputs": [
    {
     "data": {
      "text/plain": [
       "Int64"
      ]
     },
     "execution_count": 64,
     "metadata": {},
     "output_type": "execute_result"
    }
   ],
   "source": [
    "typeof(:4)"
   ]
  },
  {
   "cell_type": "code",
   "execution_count": 72,
   "id": "50823272",
   "metadata": {},
   "outputs": [
    {
     "ename": "LoadError",
     "evalue": "syntax: invalid assignment location \":best\" around In[72]:1",
     "output_type": "error",
     "traceback": [
      "syntax: invalid assignment location \":best\" around In[72]:1",
      "",
      "Stacktrace:",
      " [1] top-level scope",
      "   @ In[72]:1"
     ]
    }
   ],
   "source": [
    ":best = 34 # error bcz :best is not a symbol in actual its a value its a literal type"
   ]
  },
  {
   "cell_type": "code",
   "execution_count": 73,
   "id": "de12f688",
   "metadata": {},
   "outputs": [
    {
     "data": {
      "text/plain": [
       "Symbol"
      ]
     },
     "execution_count": 73,
     "metadata": {},
     "output_type": "execute_result"
    }
   ],
   "source": [
    "typeof(:m)"
   ]
  },
  {
   "cell_type": "code",
   "execution_count": 75,
   "id": "cedbcf1a",
   "metadata": {},
   "outputs": [
    {
     "name": "stdout",
     "output_type": "stream",
     "text": [
      "200\n"
     ]
    }
   ],
   "source": [
    "println(b)"
   ]
  },
  {
   "cell_type": "code",
   "execution_count": 76,
   "id": "b7668f09",
   "metadata": {},
   "outputs": [],
   "source": [
    "## Basic Math "
   ]
  },
  {
   "cell_type": "code",
   "execution_count": 79,
   "id": "9cc2d115",
   "metadata": {},
   "outputs": [
    {
     "name": "stdout",
     "output_type": "stream",
     "text": [
      "6840362.0\n"
     ]
    }
   ],
   "source": [
    "println(34+34,45-5,6*6,78/39) # println and print does not put spaces in between different characters like in python"
   ]
  },
  {
   "cell_type": "code",
   "execution_count": 80,
   "id": "a8886af6",
   "metadata": {},
   "outputs": [
    {
     "name": "stdout",
     "output_type": "stream",
     "text": [
      "68 40 36 2.0\n"
     ]
    }
   ],
   "source": [
    "println(34+34,' ', 45-5,' ',6*6,' ',78/39)"
   ]
  },
  {
   "cell_type": "code",
   "execution_count": 81,
   "id": "0bb3b062",
   "metadata": {},
   "outputs": [
    {
     "name": "stdout",
     "output_type": "stream",
     "text": [
      "ab\n"
     ]
    }
   ],
   "source": [
    "println(\"a\", \"b\")"
   ]
  },
  {
   "cell_type": "code",
   "execution_count": 89,
   "id": "b3ed0fb7",
   "metadata": {},
   "outputs": [
    {
     "name": "stdout",
     "output_type": "stream",
     "text": [
      "[8.0, 25.0, 11.125, 0.0]\n"
     ]
    }
   ],
   "source": [
    "println([3+5, 30-5, 89/8, 6%2]) # In julia list is typed and whole list type is particular type and here is 89/9 gives float so whole list will be converted into a float this is called type promotion"
   ]
  },
  {
   "cell_type": "code",
   "execution_count": 90,
   "id": "ffd2cea7",
   "metadata": {},
   "outputs": [
    {
     "data": {
      "text/plain": [
       "Vector{Int64}\u001b[90m (alias for \u001b[39m\u001b[90mArray{Int64, 1}\u001b[39m\u001b[90m)\u001b[39m"
      ]
     },
     "execution_count": 90,
     "metadata": {},
     "output_type": "execute_result"
    }
   ],
   "source": [
    "typeof([34,45,5,6,78,39])"
   ]
  },
  {
   "cell_type": "code",
   "execution_count": 92,
   "id": "abbc99ca",
   "metadata": {},
   "outputs": [
    {
     "data": {
      "text/plain": [
       "2//1"
      ]
     },
     "execution_count": 92,
     "metadata": {},
     "output_type": "execute_result"
    }
   ],
   "source": [
    "4//2 # gives fraction"
   ]
  },
  {
   "cell_type": "code",
   "execution_count": 93,
   "id": "8e8c1ae2",
   "metadata": {},
   "outputs": [
    {
     "data": {
      "text/plain": [
       "89//34"
      ]
     },
     "execution_count": 93,
     "metadata": {},
     "output_type": "execute_result"
    }
   ],
   "source": [
    "44//34 + 45//34"
   ]
  },
  {
   "cell_type": "code",
   "execution_count": 95,
   "id": "363fce30",
   "metadata": {},
   "outputs": [
    {
     "data": {
      "text/plain": [
       "10"
      ]
     },
     "execution_count": 95,
     "metadata": {},
     "output_type": "execute_result"
    }
   ],
   "source": [
    "convert(Int64, 10)"
   ]
  },
  {
   "cell_type": "code",
   "execution_count": 98,
   "id": "fdeb1171",
   "metadata": {},
   "outputs": [
    {
     "ename": "LoadError",
     "evalue": "InexactError: Int64(10.1)",
     "output_type": "error",
     "traceback": [
      "InexactError: Int64(10.1)",
      "",
      "Stacktrace:",
      " [1] Int64",
      "   @ ./float.jl:788 [inlined]",
      " [2] convert(#unused#::Type{Int64}, x::Float64)",
      "   @ Base ./number.jl:7",
      " [3] top-level scope",
      "   @ In[98]:1"
     ]
    }
   ],
   "source": [
    "convert(Int64, 10.1) # erroe bcz 0.1 will not be discard for this ceil it or rount it first "
   ]
  },
  {
   "cell_type": "code",
   "execution_count": 99,
   "id": "3aba42bf",
   "metadata": {},
   "outputs": [],
   "source": [
    "##Boolean"
   ]
  },
  {
   "cell_type": "code",
   "execution_count": 2,
   "id": "8193e4e9",
   "metadata": {},
   "outputs": [
    {
     "data": {
      "text/plain": [
       "false"
      ]
     },
     "execution_count": 2,
     "metadata": {},
     "output_type": "execute_result"
    }
   ],
   "source": [
    "var_a = true\n",
    "var_b = false"
   ]
  },
  {
   "cell_type": "code",
   "execution_count": 3,
   "id": "edadad52",
   "metadata": {},
   "outputs": [
    {
     "data": {
      "text/plain": [
       "false"
      ]
     },
     "execution_count": 3,
     "metadata": {},
     "output_type": "execute_result"
    }
   ],
   "source": [
    "var_a && var_b"
   ]
  },
  {
   "cell_type": "code",
   "execution_count": 4,
   "id": "6d833b61",
   "metadata": {},
   "outputs": [
    {
     "data": {
      "text/plain": [
       "false"
      ]
     },
     "execution_count": 4,
     "metadata": {},
     "output_type": "execute_result"
    }
   ],
   "source": [
    "var_a == var_b"
   ]
  },
  {
   "cell_type": "code",
   "execution_count": 5,
   "id": "f5eae27f",
   "metadata": {},
   "outputs": [
    {
     "data": {
      "text/plain": [
       "true"
      ]
     },
     "execution_count": 5,
     "metadata": {},
     "output_type": "execute_result"
    }
   ],
   "source": [
    "var_a != var_b"
   ]
  },
  {
   "cell_type": "code",
   "execution_count": 6,
   "id": "b5ca4435",
   "metadata": {},
   "outputs": [
    {
     "data": {
      "text/plain": [
       "true"
      ]
     },
     "execution_count": 6,
     "metadata": {},
     "output_type": "execute_result"
    }
   ],
   "source": [
    "var_a || var_b"
   ]
  },
  {
   "cell_type": "code",
   "execution_count": 7,
   "id": "41118545",
   "metadata": {},
   "outputs": [
    {
     "data": {
      "text/plain": [
       "false"
      ]
     },
     "execution_count": 7,
     "metadata": {},
     "output_type": "execute_result"
    }
   ],
   "source": [
    "!var_a"
   ]
  },
  {
   "cell_type": "code",
   "execution_count": 8,
   "id": "ab25b2bc",
   "metadata": {},
   "outputs": [
    {
     "data": {
      "text/plain": [
       "true"
      ]
     },
     "execution_count": 8,
     "metadata": {},
     "output_type": "execute_result"
    }
   ],
   "source": [
    "!var_b"
   ]
  },
  {
   "cell_type": "code",
   "execution_count": 9,
   "id": "b72912c9",
   "metadata": {},
   "outputs": [],
   "source": [
    "## String"
   ]
  },
  {
   "cell_type": "code",
   "execution_count": 15,
   "id": "e3a6a0ab",
   "metadata": {},
   "outputs": [
    {
     "name": "stdout",
     "output_type": "stream",
     "text": [
      "My name is Dawood my Roll no is 53 my Section B and Department BSCS.\n"
     ]
    }
   ],
   "source": [
    "name = \"Dawood\"\n",
    "Roll_no = 53\n",
    "Section = \"B\"\n",
    "Department = \"BSCS\"\n",
    "println(\"My name is $(name) my Roll no is $(Roll_no) my Section $(Section) and Department $(Department).\")"
   ]
  },
  {
   "cell_type": "code",
   "execution_count": 21,
   "id": "d6ea9fea",
   "metadata": {},
   "outputs": [
    {
     "data": {
      "text/plain": [
       "\"Chattha\""
      ]
     },
     "execution_count": 21,
     "metadata": {},
     "output_type": "execute_result"
    }
   ],
   "source": [
    "s1 = \"Dawood\"\n",
    "s2 = \"Chattha\""
   ]
  },
  {
   "cell_type": "code",
   "execution_count": 20,
   "id": "56e3cfca",
   "metadata": {},
   "outputs": [
    {
     "ename": "LoadError",
     "evalue": "MethodError: no method matching +(::String, ::String)\n\u001b[0mClosest candidates are:\n\u001b[0m  +(::Any, ::Any, \u001b[91m::Any\u001b[39m, \u001b[91m::Any...\u001b[39m) at operators.jl:591",
     "output_type": "error",
     "traceback": [
      "MethodError: no method matching +(::String, ::String)\n\u001b[0mClosest candidates are:\n\u001b[0m  +(::Any, ::Any, \u001b[91m::Any\u001b[39m, \u001b[91m::Any...\u001b[39m) at operators.jl:591",
      "",
      "Stacktrace:",
      " [1] top-level scope",
      "   @ In[20]:1"
     ]
    }
   ],
   "source": [
    "s1 + s2 # string can't be concatinate by this method"
   ]
  },
  {
   "cell_type": "code",
   "execution_count": 24,
   "id": "ee0b2847",
   "metadata": {},
   "outputs": [
    {
     "data": {
      "text/plain": [
       "\"DChatthaaChatthawChatthaoChatthaoChatthad\""
      ]
     },
     "execution_count": 24,
     "metadata": {},
     "output_type": "execute_result"
    }
   ],
   "source": [
    "join(s1,s2) # this will join sting by putting string s2 after every letter of s1"
   ]
  },
  {
   "cell_type": "code",
   "execution_count": 26,
   "id": "e9267cb8",
   "metadata": {},
   "outputs": [
    {
     "data": {
      "text/plain": [
       "\"Dawood Chattha\""
      ]
     },
     "execution_count": 26,
     "metadata": {},
     "output_type": "execute_result"
    }
   ],
   "source": [
    "join((s1,s2),\" \") # string concatination"
   ]
  },
  {
   "cell_type": "code",
   "execution_count": 27,
   "id": "ef2e6327",
   "metadata": {},
   "outputs": [
    {
     "data": {
      "text/plain": [
       "\"DawoodChattha\""
      ]
     },
     "execution_count": 27,
     "metadata": {},
     "output_type": "execute_result"
    }
   ],
   "source": [
    "s1 * s2"
   ]
  },
  {
   "cell_type": "code",
   "execution_count": 32,
   "id": "6c036148",
   "metadata": {},
   "outputs": [
    {
     "data": {
      "text/plain": [
       "\"a b c d\""
      ]
     },
     "execution_count": 32,
     "metadata": {},
     "output_type": "execute_result"
    }
   ],
   "source": [
    "letter = ['a', 'b', 'c', 'd']\n",
    "#join(letter) # without space\n",
    "join(letter,\" \")# with space\n"
   ]
  },
  {
   "cell_type": "code",
   "execution_count": 35,
   "id": "1135dedb",
   "metadata": {},
   "outputs": [
    {
     "data": {
      "text/plain": [
       "\"DawoodDawoodDawoodDawoodDawood\""
      ]
     },
     "execution_count": 35,
     "metadata": {},
     "output_type": "execute_result"
    }
   ],
   "source": [
    "s1 ^ 5 # string repeatation"
   ]
  },
  {
   "cell_type": "code",
   "execution_count": 44,
   "id": "a035ea3a",
   "metadata": {},
   "outputs": [
    {
     "data": {
      "text/plain": [
       "1100"
      ]
     },
     "execution_count": 44,
     "metadata": {},
     "output_type": "execute_result"
    }
   ],
   "source": [
    "# Assign the value 10 to the variable x\n",
    "x = 34\n",
    "\n",
    "# Doing math with x's value\n",
    "x + 18\n",
    "\n",
    "# Reassign x's value\n",
    "x = 100 + 1000\n",
    "\n",
    "# You can assign values of other types, like strings of text\n"
   ]
  },
  {
   "cell_type": "code",
   "execution_count": 37,
   "id": "3c5d7460",
   "metadata": {},
   "outputs": [
    {
     "data": {
      "text/plain": [
       "(1, 6)"
      ]
     },
     "execution_count": 37,
     "metadata": {},
     "output_type": "execute_result"
    }
   ],
   "source": [
    "x, y = size([2 2 4 5 4 4]) # asign number of rows and columns"
   ]
  },
  {
   "cell_type": "code",
   "execution_count": 42,
   "id": "f1d8258e",
   "metadata": {},
   "outputs": [
    {
     "data": {
      "text/plain": [
       "6"
      ]
     },
     "execution_count": 42,
     "metadata": {},
     "output_type": "execute_result"
    }
   ],
   "source": [
    "y"
   ]
  },
  {
   "cell_type": "code",
   "execution_count": 43,
   "id": "af26fa0e",
   "metadata": {},
   "outputs": [
    {
     "data": {
      "text/plain": [
       "1"
      ]
     },
     "execution_count": 43,
     "metadata": {},
     "output_type": "execute_result"
    }
   ],
   "source": [
    "x"
   ]
  },
  {
   "cell_type": "markdown",
   "id": "21ddee28",
   "metadata": {},
   "source": []
  }
 ],
 "metadata": {
  "kernelspec": {
   "display_name": "Julia 1.8.4",
   "language": "julia",
   "name": "julia-1.8"
  },
  "language_info": {
   "file_extension": ".jl",
   "mimetype": "application/julia",
   "name": "julia",
   "version": "1.8.4"
  }
 },
 "nbformat": 4,
 "nbformat_minor": 5
}
