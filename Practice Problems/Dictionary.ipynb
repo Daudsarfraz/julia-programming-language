{
 "cells": [
  {
   "cell_type": "code",
   "execution_count": 26,
   "id": "d656e38c",
   "metadata": {},
   "outputs": [
    {
     "data": {
      "text/plain": [
       "Dict{String, String} with 3 entries:\n",
       "  \"Department\" => \"BSCS\"\n",
       "  \"Section\"    => \"B\"\n",
       "  \"Name\"       => \"Dawood\""
      ]
     },
     "execution_count": 26,
     "metadata": {},
     "output_type": "execute_result"
    }
   ],
   "source": [
    "dic = Dict(\"Name\" => \"Dawood\", \"Section\" => \"B\", \"Department\" => \"BSCS\")"
   ]
  },
  {
   "cell_type": "code",
   "execution_count": 27,
   "id": "9f69bd42",
   "metadata": {},
   "outputs": [
    {
     "data": {
      "text/plain": [
       "\"Dawood\""
      ]
     },
     "execution_count": 27,
     "metadata": {},
     "output_type": "execute_result"
    }
   ],
   "source": [
    "dic[\"Name\"]"
   ]
  },
  {
   "cell_type": "code",
   "execution_count": 28,
   "id": "e6017b1b",
   "metadata": {},
   "outputs": [
    {
     "data": {
      "text/plain": [
       "\"B\""
      ]
     },
     "execution_count": 28,
     "metadata": {},
     "output_type": "execute_result"
    }
   ],
   "source": [
    "dic[\"Section\"]"
   ]
  },
  {
   "cell_type": "code",
   "execution_count": 29,
   "id": "2ec5ade9",
   "metadata": {},
   "outputs": [
    {
     "ename": "LoadError",
     "evalue": "type Dict has no field Nmae",
     "output_type": "error",
     "traceback": [
      "type Dict has no field Nmae",
      "",
      "Stacktrace:",
      " [1] getproperty(x::Dict{String, String}, f::Symbol)",
      "   @ Base ./Base.jl:38",
      " [2] top-level scope",
      "   @ In[29]:1"
     ]
    }
   ],
   "source": [
    "dic.Nmae  # Don't support"
   ]
  },
  {
   "cell_type": "code",
   "execution_count": 30,
   "id": "3b4762ae",
   "metadata": {},
   "outputs": [
    {
     "data": {
      "text/plain": [
       "\"BSCS-B\""
      ]
     },
     "execution_count": 30,
     "metadata": {},
     "output_type": "execute_result"
    }
   ],
   "source": [
    "dic[\"Section\"] = \"BSCS-B\" # string updatation"
   ]
  },
  {
   "cell_type": "code",
   "execution_count": 31,
   "id": "714ea11c",
   "metadata": {},
   "outputs": [],
   "source": [
    "#Many functions in Julia have an added exclamation mark, called a bang. It is used to make permanent changes to the values in a computer variable."
   ]
  },
  {
   "cell_type": "code",
   "execution_count": 16,
   "id": "c3dbf215",
   "metadata": {},
   "outputs": [
    {
     "data": {
      "text/plain": [
       "Dict{String, String} with 1 entry:\n",
       "  \"Section\" => \"BSCS-B\""
      ]
     },
     "execution_count": 16,
     "metadata": {},
     "output_type": "execute_result"
    }
   ],
   "source": [
    "dic"
   ]
  },
  {
   "cell_type": "code",
   "execution_count": 39,
   "id": "b895a626",
   "metadata": {},
   "outputs": [
    {
     "name": "stdout",
     "output_type": "stream",
     "text": [
      "dic = Dict{String, String}()\n"
     ]
    }
   ],
   "source": [
    "@show dic;"
   ]
  },
  {
   "cell_type": "code",
   "execution_count": 40,
   "id": "2f7ebb18",
   "metadata": {},
   "outputs": [
    {
     "ename": "LoadError",
     "evalue": "ArgumentError: dict must be non-empty",
     "output_type": "error",
     "traceback": [
      "ArgumentError: dict must be non-empty",
      "",
      "Stacktrace:",
      " [1] pop!(h::Dict{String, String})",
      "   @ Base ./dict.jl:637",
      " [2] top-level scope",
      "   @ In[40]:1"
     ]
    }
   ],
   "source": [
    "pop!(dic) # Bang Function \" mutate \" objects (by converstion)"
   ]
  },
  {
   "cell_type": "code",
   "execution_count": 43,
   "id": "2bc6b340",
   "metadata": {},
   "outputs": [
    {
     "name": "stdout",
     "output_type": "stream",
     "text": [
      "dic = Dict{String, String}()\n"
     ]
    }
   ],
   "source": [
    "@show dic;"
   ]
  },
  {
   "cell_type": "code",
   "execution_count": 60,
   "id": "e27b1f30",
   "metadata": {},
   "outputs": [
    {
     "data": {
      "text/plain": [
       "Dict{String, String} with 2 entries:\n",
       "  \"os\"       => \"Windows\"\n",
       "  \"Language\" => \"Java\""
      ]
     },
     "execution_count": 60,
     "metadata": {},
     "output_type": "execute_result"
    }
   ],
   "source": [
    "e1 = Dict(\"os\" => \"Ubuntu\",\"Language\" => \"Julia\",\"Year\" => 2022)\n",
    "e2 = Dict(\"os\" => \"Windows\",\"Language\" => \"Java\")"
   ]
  },
  {
   "cell_type": "code",
   "execution_count": 61,
   "id": "b810c5bc",
   "metadata": {},
   "outputs": [
    {
     "data": {
      "text/plain": [
       "Dict{String, Any} with 3 entries:\n",
       "  \"Year\"     => 2022\n",
       "  \"os\"       => \"Windows\"\n",
       "  \"Language\" => \"Java\""
      ]
     },
     "execution_count": 61,
     "metadata": {},
     "output_type": "execute_result"
    }
   ],
   "source": [
    "# Can merge two dictionaries\n",
    "merge(e1,e2) # All values of e2 will be copied to e1"
   ]
  },
  {
   "cell_type": "code",
   "execution_count": 63,
   "id": "57c274f8",
   "metadata": {},
   "outputs": [
    {
     "data": {
      "text/plain": [
       "Dict{String, Any} with 3 entries:\n",
       "  \"Year\"     => 2022\n",
       "  \"os\"       => \"Windows\"\n",
       "  \"Language\" => \"Java\""
      ]
     },
     "execution_count": 63,
     "metadata": {},
     "output_type": "execute_result"
    }
   ],
   "source": [
    "merge!(e1,e2) # duplicate keys in e2 override those in e1 if e1 have already"
   ]
  },
  {
   "cell_type": "code",
   "execution_count": 73,
   "id": "c0e91d88",
   "metadata": {},
   "outputs": [
    {
     "name": "stdout",
     "output_type": "stream",
     "text": [
      "key = Year \t\t val = 2022\n",
      "key = os \t\t val = Windows\n",
      "key = Language \t\t val = Java\n"
     ]
    }
   ],
   "source": [
    "for(k,v) in e1;\n",
    "    println(\"key = $k \\t\\t val = $v\")\n",
    "end"
   ]
  },
  {
   "cell_type": "code",
   "execution_count": 74,
   "id": "5390ff0c",
   "metadata": {},
   "outputs": [],
   "source": [
    "#using symbols as a key"
   ]
  },
  {
   "cell_type": "code",
   "execution_count": 75,
   "id": "15ed02fa",
   "metadata": {},
   "outputs": [
    {
     "data": {
      "text/plain": [
       "Dict{Symbol, String} with 1 entry:\n",
       "  :lan => \"Cpp\""
      ]
     },
     "execution_count": 75,
     "metadata": {},
     "output_type": "execute_result"
    }
   ],
   "source": [
    "simple = Dict(:lan => \"Cpp\")"
   ]
  },
  {
   "cell_type": "code",
   "execution_count": 76,
   "id": "28057e49",
   "metadata": {},
   "outputs": [
    {
     "data": {
      "text/plain": [
       "\"Cpp\""
      ]
     },
     "execution_count": 76,
     "metadata": {},
     "output_type": "execute_result"
    }
   ],
   "source": [
    "simple[:lan]"
   ]
  },
  {
   "cell_type": "code",
   "execution_count": 72,
   "id": "c9e978f6",
   "metadata": {},
   "outputs": [
    {
     "name": "stdout",
     "output_type": "stream",
     "text": [
      "k = lan \t\t vav = Cpp\n"
     ]
    }
   ],
   "source": [
    "for(k,v) in simple\n",
    "    println(\"k = $k \\t\\t vav = $v\")\n",
    "end"
   ]
  },
  {
   "cell_type": "code",
   "execution_count": null,
   "id": "cf67bed2",
   "metadata": {},
   "outputs": [],
   "source": []
  }
 ],
 "metadata": {
  "kernelspec": {
   "display_name": "Julia 1.8.4",
   "language": "julia",
   "name": "julia-1.8"
  },
  "language_info": {
   "file_extension": ".jl",
   "mimetype": "application/julia",
   "name": "julia",
   "version": "1.8.4"
  }
 },
 "nbformat": 4,
 "nbformat_minor": 5
}
